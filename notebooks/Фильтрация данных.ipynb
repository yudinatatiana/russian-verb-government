{
 "cells": [
  {
   "cell_type": "markdown",
   "metadata": {},
   "source": [
    "# Задача: \n",
    "\n",
    "- убрать по частоте (встретилось не более 3х раз)\n",
    "- убрать по pymorphy (FakeDictionary)"
   ]
  },
  {
   "cell_type": "code",
   "execution_count": 1,
   "metadata": {},
   "outputs": [],
   "source": [
    "import json"
   ]
  },
  {
   "cell_type": "code",
   "execution_count": 2,
   "metadata": {},
   "outputs": [],
   "source": [
    "with open('./all_data.json', 'r', encoding='UTF-8') as f:\n",
    "    json_data = json.load(f)"
   ]
  },
  {
   "cell_type": "code",
   "execution_count": 5,
   "metadata": {},
   "outputs": [],
   "source": [
    "import pymorphy2\n",
    "morph = pymorphy2.MorphAnalyzer()"
   ]
  },
  {
   "cell_type": "code",
   "execution_count": 6,
   "metadata": {},
   "outputs": [],
   "source": [
    "word = 'инфор\\xadмация'"
   ]
  },
  {
   "cell_type": "code",
   "execution_count": 7,
   "metadata": {},
   "outputs": [],
   "source": [
    "p = morph.parse(word)"
   ]
  },
  {
   "cell_type": "code",
   "execution_count": 8,
   "metadata": {},
   "outputs": [
    {
     "data": {
      "text/plain": [
       "[Parse(word='инфор\\xadмация', tag=OpencorporaTag('NOUN,inan,femn sing,nomn'), normal_form='инфор\\xadмация', score=1.0, methods_stack=((<FakeDictionary>, 'инфор\\xadмация', 40, 0), (<KnownSuffixAnalyzer>, 'мация')))]"
      ]
     },
     "execution_count": 8,
     "metadata": {},
     "output_type": "execute_result"
    }
   ],
   "source": [
    "p"
   ]
  },
  {
   "cell_type": "code",
   "execution_count": 9,
   "metadata": {},
   "outputs": [],
   "source": [
    "methods_stack = p[0].methods_stack[0][0]"
   ]
  },
  {
   "cell_type": "code",
   "execution_count": 10,
   "metadata": {},
   "outputs": [],
   "source": [
    "p2 = morph.parse('самозатухание')"
   ]
  },
  {
   "cell_type": "code",
   "execution_count": 11,
   "metadata": {},
   "outputs": [
    {
     "data": {
      "text/plain": [
       "False"
      ]
     },
     "execution_count": 11,
     "metadata": {},
     "output_type": "execute_result"
    }
   ],
   "source": [
    "p2[0].methods_stack[0][0] is methods_stack"
   ]
  },
  {
   "cell_type": "code",
   "execution_count": 12,
   "metadata": {},
   "outputs": [
    {
     "data": {
      "text/plain": [
       "True"
      ]
     },
     "execution_count": 12,
     "metadata": {},
     "output_type": "execute_result"
    }
   ],
   "source": [
    "p[0].methods_stack[0][0] is methods_stack"
   ]
  },
  {
   "cell_type": "markdown",
   "metadata": {},
   "source": [
    "Логичнее всего начать \"снизу вверх\":\n",
    "\n",
    "- убираем низкочастотные существительные\n",
    "- убираем существительные с ошибками\n",
    "- убираем низкочастотные предлоги\n",
    "- убираем предлоги с ошибками\n",
    "- убираем низкочастотные глаголы\n",
    "- убираем глаголы с ошибками\n",
    "\n",
    "Замеряем: \n",
    "\n",
    "- количество уникальных существительных \"до\" и \"после\"\n",
    "- количество уникальных предлогов \"до\" и \"после\"\n",
    "- количество уникальных глаголов \"до\" и \"после\"\n",
    "- количество всех сочетаний \"до\" и \"после\""
   ]
  },
  {
   "cell_type": "code",
   "execution_count": 10,
   "metadata": {},
   "outputs": [],
   "source": [
    "def count_stat(a, count=None):\n",
    "    if count is None: count = 0\n",
    "    for key in a:\n",
    "        if isinstance(a[key], dict):\n",
    "            count = count_stat(a[key], count)\n",
    "        else:\n",
    "            count += a[key]\n",
    "    return count"
   ]
  },
  {
   "cell_type": "code",
   "execution_count": 14,
   "metadata": {},
   "outputs": [
    {
     "name": "stdout",
     "output_type": "stream",
     "text": [
      "Количество сочетаний \"до\": 37841081\n"
     ]
    }
   ],
   "source": [
    "print('Количество сочетаний \"до\":', count_stat(json_data))"
   ]
  },
  {
   "cell_type": "code",
   "execution_count": 17,
   "metadata": {},
   "outputs": [
    {
     "name": "stdout",
     "output_type": "stream",
     "text": [
      "Количество уникальных глаголов \"до\": 66462\n"
     ]
    }
   ],
   "source": [
    "unique_verbs = set(json_data[\"_\"])\n",
    "unique_verbs.update(json_data[\"не\"])\n",
    "print('Количество уникальных глаголов \"до\":', len(unique_verbs))"
   ]
  },
  {
   "cell_type": "code",
   "execution_count": 18,
   "metadata": {},
   "outputs": [
    {
     "name": "stdout",
     "output_type": "stream",
     "text": [
      "Количество уникальных предлогов \"до\": 2951\n"
     ]
    }
   ],
   "source": [
    "unique_adps = set()\n",
    "for part in json_data:\n",
    "    for verb in json_data[part]:\n",
    "        unique_adps.update(json_data[part][verb])\n",
    "print('Количество уникальных предлогов \"до\":', len(unique_adps))"
   ]
  },
  {
   "cell_type": "code",
   "execution_count": 20,
   "metadata": {},
   "outputs": [
    {
     "name": "stdout",
     "output_type": "stream",
     "text": [
      "Количество уникальных существительных \"до\": 196128\n"
     ]
    }
   ],
   "source": [
    "unique_nouns = set()\n",
    "for part in json_data:\n",
    "    for verb in json_data[part]:\n",
    "        for adp in json_data[part][verb]:\n",
    "            for case in json_data[part][verb][adp]:\n",
    "                unique_nouns.update(json_data[part][verb][adp][case])\n",
    "print('Количество уникальных существительных \"до\":', len(unique_nouns))"
   ]
  },
  {
   "cell_type": "markdown",
   "metadata": {},
   "source": [
    "Фильтрация существительных"
   ]
  },
  {
   "cell_type": "code",
   "execution_count": 21,
   "metadata": {},
   "outputs": [],
   "source": [
    "noun_dict = dict()\n",
    "for part in json_data: \n",
    "    for verb in json_data[part]:\n",
    "        for adp in json_data[part][verb]:\n",
    "            for case in json_data[part][verb][adp]:\n",
    "                for noun in json_data[part][verb][adp][case]:\n",
    "                    if noun not in noun_dict:\n",
    "                        noun_dict[noun] = json_data[part][verb][adp][case][noun]\n",
    "                    else:\n",
    "                        noun_dict[noun] += json_data[part][verb][adp][case][noun]"
   ]
  },
  {
   "cell_type": "code",
   "execution_count": 23,
   "metadata": {},
   "outputs": [
    {
     "name": "stdout",
     "output_type": "stream",
     "text": [
      "Количество удаленных существительных: 147731\n"
     ]
    }
   ],
   "source": [
    "noun_for_delete = set()\n",
    "for part in json_data: \n",
    "    for verb in json_data[part]:\n",
    "        for adp in json_data[part][verb]:\n",
    "            for case in json_data[part][verb][adp]:\n",
    "                noun_list = list()\n",
    "                for noun in json_data[part][verb][adp][case]:\n",
    "                    if noun_dict[noun] <= 3:\n",
    "                        noun_list.append(noun)\n",
    "                    else:\n",
    "                        p = morph.parse(noun)\n",
    "                        if p[0].methods_stack[0][0] is methods_stack:\n",
    "                            noun_list.append(noun)\n",
    "                for noun in noun_list:\n",
    "                    json_data[part][verb][adp][case].pop(noun, None)\n",
    "                    noun_for_delete.add(noun)\n",
    "print('Количество удаленных существительных:', len(noun_for_delete))"
   ]
  },
  {
   "cell_type": "code",
   "execution_count": 24,
   "metadata": {},
   "outputs": [
    {
     "name": "stdout",
     "output_type": "stream",
     "text": [
      "Количество уникальных существительных \"после\": 48397\n"
     ]
    }
   ],
   "source": [
    "unique_nouns = set()\n",
    "for part in json_data:\n",
    "    for verb in json_data[part]:\n",
    "        for adp in json_data[part][verb]:\n",
    "            for case in json_data[part][verb][adp]:\n",
    "                unique_nouns.update(json_data[part][verb][adp][case])\n",
    "print('Количество уникальных существительных \"после\":', len(unique_nouns))"
   ]
  },
  {
   "cell_type": "code",
   "execution_count": 25,
   "metadata": {},
   "outputs": [
    {
     "name": "stdout",
     "output_type": "stream",
     "text": [
      "Количество сочетаний \"после\": 37310743\n"
     ]
    }
   ],
   "source": [
    "print('Количество сочетаний \"после\":', count_stat(json_data))"
   ]
  },
  {
   "cell_type": "markdown",
   "metadata": {},
   "source": [
    "Фильтрация предлогов"
   ]
  },
  {
   "cell_type": "code",
   "execution_count": 26,
   "metadata": {},
   "outputs": [],
   "source": [
    "adp_dict = dict()\n",
    "for part in json_data: \n",
    "    for verb in json_data[part]:\n",
    "        for adp in json_data[part][verb]:\n",
    "            if adp not in adp_dict:\n",
    "                adp_dict[adp] = count_stat(json_data[part][verb][adp])\n",
    "            else:\n",
    "                adp_dict[adp] += count_stat(json_data[part][verb][adp])"
   ]
  },
  {
   "cell_type": "code",
   "execution_count": 29,
   "metadata": {},
   "outputs": [
    {
     "name": "stdout",
     "output_type": "stream",
     "text": [
      "Количество удаленных предлогов: 2680\n"
     ]
    }
   ],
   "source": [
    "adp_for_delete = set()\n",
    "for part in json_data: \n",
    "    for verb in json_data[part]:\n",
    "        adp_list = list()\n",
    "        for adp in json_data[part][verb]:\n",
    "            if adp_dict[adp] <= 3:\n",
    "                adp_list.append(adp)\n",
    "            else:\n",
    "                p = morph.parse(adp)\n",
    "                if p[0].methods_stack[0][0] is methods_stack:\n",
    "                    adp_list.append(adp)\n",
    "        for adp in adp_list:\n",
    "            json_data[part][verb].pop(adp, None)\n",
    "            adp_for_delete.add(adp)\n",
    "print('Количество удаленных предлогов:', len(adp_for_delete))"
   ]
  },
  {
   "cell_type": "code",
   "execution_count": 31,
   "metadata": {},
   "outputs": [
    {
     "name": "stdout",
     "output_type": "stream",
     "text": [
      "Количество уникальных предлогов \"после\": 271\n"
     ]
    }
   ],
   "source": [
    "unique_adps = set()\n",
    "for part in json_data:\n",
    "    for verb in json_data[part]:\n",
    "        unique_adps.update(json_data[part][verb])\n",
    "print('Количество уникальных предлогов \"после\":', len(unique_adps))"
   ]
  },
  {
   "cell_type": "code",
   "execution_count": 32,
   "metadata": {},
   "outputs": [
    {
     "name": "stdout",
     "output_type": "stream",
     "text": [
      "Количество сочетаний \"после\": 37307016\n"
     ]
    }
   ],
   "source": [
    "print('Количество сочетаний \"после\":', count_stat(json_data))"
   ]
  },
  {
   "cell_type": "markdown",
   "metadata": {},
   "source": [
    "Фильтрация глаголов"
   ]
  },
  {
   "cell_type": "code",
   "execution_count": 33,
   "metadata": {},
   "outputs": [],
   "source": [
    "verb_dict = dict()\n",
    "for part in json_data: \n",
    "    for verb in json_data[part]:\n",
    "        if verb not in verb_dict:\n",
    "            verb_dict[verb] = count_stat(json_data[part][verb])\n",
    "        else:\n",
    "            verb_dict[verb] += count_stat(json_data[part][verb])"
   ]
  },
  {
   "cell_type": "code",
   "execution_count": 35,
   "metadata": {},
   "outputs": [
    {
     "name": "stdout",
     "output_type": "stream",
     "text": [
      "Количество удаленных глаголов: 44682\n"
     ]
    }
   ],
   "source": [
    "verb_for_delete = set()\n",
    "for part in json_data: \n",
    "    verb_list = list()\n",
    "    for verb in json_data[part]:\n",
    "        if verb_dict[verb] <= 3:\n",
    "            verb_list.append(verb)\n",
    "        else:\n",
    "            p = morph.parse(verb)\n",
    "            if p[0].methods_stack[0][0] is methods_stack:\n",
    "                verb_list.append(verb)\n",
    "    for verb in verb_list:\n",
    "        json_data[part].pop(verb, None)\n",
    "        verb_for_delete.add(verb)\n",
    "print('Количество удаленных глаголов:', len(verb_for_delete))"
   ]
  },
  {
   "cell_type": "code",
   "execution_count": 36,
   "metadata": {},
   "outputs": [
    {
     "name": "stdout",
     "output_type": "stream",
     "text": [
      "Количество уникальных глаголов \"после\": 21780\n"
     ]
    }
   ],
   "source": [
    "unique_verbs = set(json_data[\"_\"])\n",
    "unique_verbs.update(json_data[\"не\"])\n",
    "print('Количество уникальных глаголов \"после\":', len(unique_verbs))"
   ]
  },
  {
   "cell_type": "code",
   "execution_count": 37,
   "metadata": {},
   "outputs": [
    {
     "name": "stdout",
     "output_type": "stream",
     "text": [
      "Количество сочетаний \"после\": 36792942\n"
     ]
    }
   ],
   "source": [
    "print('Количество сочетаний \"после\":', count_stat(json_data))"
   ]
  },
  {
   "cell_type": "code",
   "execution_count": 38,
   "metadata": {},
   "outputs": [
    {
     "name": "stdout",
     "output_type": "stream",
     "text": [
      "Количество уникальных предлогов \"после\": 270\n"
     ]
    }
   ],
   "source": [
    "unique_adps = set()\n",
    "for part in json_data:\n",
    "    for verb in json_data[part]:\n",
    "        unique_adps.update(json_data[part][verb])\n",
    "print('Количество уникальных предлогов \"после\":', len(unique_adps))"
   ]
  },
  {
   "cell_type": "code",
   "execution_count": 39,
   "metadata": {},
   "outputs": [
    {
     "name": "stdout",
     "output_type": "stream",
     "text": [
      "Количество уникальных существительных \"после\": 48380\n"
     ]
    }
   ],
   "source": [
    "unique_nouns = set()\n",
    "for part in json_data:\n",
    "    for verb in json_data[part]:\n",
    "        for adp in json_data[part][verb]:\n",
    "            for case in json_data[part][verb][adp]:\n",
    "                unique_nouns.update(json_data[part][verb][adp][case])\n",
    "print('Количество уникальных существительных \"после\":', len(unique_nouns))"
   ]
  },
  {
   "cell_type": "code",
   "execution_count": 40,
   "metadata": {},
   "outputs": [],
   "source": [
    "with open('./all_data_after_filter.json', 'w', encoding='UTF-8') as f:\n",
    "    json.dump(json_data, f)"
   ]
  },
  {
   "cell_type": "markdown",
   "metadata": {},
   "source": [
    "Удаление именительного падежа!"
   ]
  },
  {
   "cell_type": "code",
   "execution_count": 41,
   "metadata": {},
   "outputs": [],
   "source": [
    "for part in json_data: \n",
    "    for verb in json_data[part]:\n",
    "        for adp in json_data[part][verb]:\n",
    "            json_data[part][verb][adp].pop('Nom', None)"
   ]
  },
  {
   "cell_type": "code",
   "execution_count": 42,
   "metadata": {},
   "outputs": [
    {
     "name": "stdout",
     "output_type": "stream",
     "text": [
      "Количество сочетаний \"после\": 26729228\n"
     ]
    }
   ],
   "source": [
    "print('Количество сочетаний \"после\":', count_stat(json_data))"
   ]
  },
  {
   "cell_type": "code",
   "execution_count": 43,
   "metadata": {},
   "outputs": [
    {
     "name": "stdout",
     "output_type": "stream",
     "text": [
      "Количество уникальных существительных \"после\": 45380\n"
     ]
    }
   ],
   "source": [
    "unique_nouns = set()\n",
    "for part in json_data:\n",
    "    for verb in json_data[part]:\n",
    "        for adp in json_data[part][verb]:\n",
    "            for case in json_data[part][verb][adp]:\n",
    "                unique_nouns.update(json_data[part][verb][adp][case])\n",
    "print('Количество уникальных существительных \"после\":', len(unique_nouns))"
   ]
  },
  {
   "cell_type": "code",
   "execution_count": 44,
   "metadata": {},
   "outputs": [],
   "source": [
    "with open('./all_data_after_filter_2.json', 'w', encoding='UTF-8') as f:\n",
    "    json.dump(json_data, f)"
   ]
  },
  {
   "cell_type": "code",
   "execution_count": 2,
   "metadata": {},
   "outputs": [],
   "source": [
    "with open('./all_data_after_filter_2.json', 'r', encoding='UTF-8') as f:\n",
    "    json_data = json.load(f)"
   ]
  },
  {
   "cell_type": "code",
   "execution_count": 4,
   "metadata": {},
   "outputs": [
    {
     "name": "stdout",
     "output_type": "stream",
     "text": [
      "После фильтрации \"глагол + предлог + падеж\" 340007\n"
     ]
    }
   ],
   "source": [
    "verb_adp_case = set()\n",
    "\n",
    "for part in json_data:\n",
    "    for verb in json_data[part]:\n",
    "        for adp in json_data[part][verb]:\n",
    "            for case in json_data[part][verb][adp]:\n",
    "                temp = f\"{verb}_{adp}_{case}\"\n",
    "                verb_adp_case.add(temp)\n",
    "print('После фильтрации \"глагол + предлог + падеж\"', len(verb_adp_case))"
   ]
  },
  {
   "cell_type": "code",
   "execution_count": 5,
   "metadata": {},
   "outputs": [],
   "source": [
    "with open('./all_data.json', 'r', encoding='UTF-8') as f:\n",
    "    json_data_1 = json.load(f)"
   ]
  },
  {
   "cell_type": "code",
   "execution_count": 6,
   "metadata": {},
   "outputs": [
    {
     "name": "stdout",
     "output_type": "stream",
     "text": [
      "До фильтрации \"глагол + предлог + падеж\" 466543\n"
     ]
    }
   ],
   "source": [
    "verb_adp_case_1 = set()\n",
    "\n",
    "for part in json_data_1:\n",
    "    for verb in json_data_1[part]:\n",
    "        for adp in json_data_1[part][verb]:\n",
    "            for case in json_data_1[part][verb][adp]:\n",
    "                temp = f\"{verb}_{adp}_{case}\"\n",
    "                verb_adp_case_1.add(temp)\n",
    "print('До фильтрации \"глагол + предлог + падеж\"', len(verb_adp_case_1))"
   ]
  },
  {
   "cell_type": "code",
   "execution_count": 7,
   "metadata": {},
   "outputs": [
    {
     "name": "stdout",
     "output_type": "stream",
     "text": [
      "До фильтрации \"глагол + предлог + падеж + существительное\" 9006225\n"
     ]
    }
   ],
   "source": [
    "verb_adp_case_noun_1 = set()\n",
    "\n",
    "for part in json_data_1:\n",
    "    for verb in json_data_1[part]:\n",
    "        for adp in json_data_1[part][verb]:\n",
    "            for case in json_data_1[part][verb][adp]:\n",
    "                for noun in json_data_1[part][verb][adp][case]:\n",
    "                    temp = f\"{verb}_{adp}_{case}_{noun}\"\n",
    "                    verb_adp_case_noun_1.add(temp)\n",
    "print('До фильтрации \"глагол + предлог + падеж + существительное\"', len(verb_adp_case_noun_1))"
   ]
  },
  {
   "cell_type": "code",
   "execution_count": 8,
   "metadata": {},
   "outputs": [
    {
     "name": "stdout",
     "output_type": "stream",
     "text": [
      "После фильтрации \"глагол + предлог + падеж + сущ\" 6095208\n"
     ]
    }
   ],
   "source": [
    "verb_adp_case_noun = set()\n",
    "\n",
    "for part in json_data:\n",
    "    for verb in json_data[part]:\n",
    "        for adp in json_data[part][verb]:\n",
    "            for case in json_data[part][verb][adp]:\n",
    "                for noun in json_data[part][verb][adp][case]:\n",
    "                    temp = f\"{verb}_{adp}_{case}_{noun}\"\n",
    "                    verb_adp_case_noun.add(temp)\n",
    "print('После фильтрации \"глагол + предлог + падеж + сущ\"', len(verb_adp_case_noun))"
   ]
  },
  {
   "cell_type": "code",
   "execution_count": 12,
   "metadata": {},
   "outputs": [
    {
     "data": {
      "text/plain": [
       "35591133"
      ]
     },
     "execution_count": 12,
     "metadata": {},
     "output_type": "execute_result"
    }
   ],
   "source": [
    "count_stat(json_data_1['_'])"
   ]
  },
  {
   "cell_type": "code",
   "execution_count": 13,
   "metadata": {},
   "outputs": [
    {
     "data": {
      "text/plain": [
       "2249948"
      ]
     },
     "execution_count": 13,
     "metadata": {},
     "output_type": "execute_result"
    }
   ],
   "source": [
    "count_stat(json_data_1['не'])"
   ]
  },
  {
   "cell_type": "code",
   "execution_count": 14,
   "metadata": {},
   "outputs": [
    {
     "data": {
      "text/plain": [
       "37841081"
      ]
     },
     "execution_count": 14,
     "metadata": {},
     "output_type": "execute_result"
    }
   ],
   "source": [
    "count_stat(json_data_1)"
   ]
  },
  {
   "cell_type": "code",
   "execution_count": 16,
   "metadata": {},
   "outputs": [
    {
     "data": {
      "text/plain": [
       "1573117"
      ]
     },
     "execution_count": 16,
     "metadata": {},
     "output_type": "execute_result"
    }
   ],
   "source": [
    "count_stat(json_data['не'])"
   ]
  },
  {
   "cell_type": "code",
   "execution_count": 17,
   "metadata": {},
   "outputs": [
    {
     "data": {
      "text/plain": [
       "26729228"
      ]
     },
     "execution_count": 17,
     "metadata": {},
     "output_type": "execute_result"
    }
   ],
   "source": [
    "count_stat(json_data)"
   ]
  },
  {
   "cell_type": "code",
   "execution_count": 30,
   "metadata": {},
   "outputs": [],
   "source": [
    "verb_not = set()\n",
    "verb_not.update(json_data['не'].keys())"
   ]
  },
  {
   "cell_type": "code",
   "execution_count": 31,
   "metadata": {},
   "outputs": [
    {
     "data": {
      "text/plain": [
       "12684"
      ]
     },
     "execution_count": 31,
     "metadata": {},
     "output_type": "execute_result"
    }
   ],
   "source": [
    "len(verb_not)"
   ]
  },
  {
   "cell_type": "code",
   "execution_count": 32,
   "metadata": {},
   "outputs": [],
   "source": [
    "verb = set()\n",
    "verb.update(json_data['_'].keys())"
   ]
  },
  {
   "cell_type": "code",
   "execution_count": 33,
   "metadata": {},
   "outputs": [
    {
     "data": {
      "text/plain": [
       "21748"
      ]
     },
     "execution_count": 33,
     "metadata": {},
     "output_type": "execute_result"
    }
   ],
   "source": [
    "len(verb)"
   ]
  },
  {
   "cell_type": "code",
   "execution_count": 34,
   "metadata": {},
   "outputs": [
    {
     "name": "stdout",
     "output_type": "stream",
     "text": [
      "Глаголы, использующиеся только с \"не\" 32\n"
     ]
    }
   ],
   "source": [
    "count = 0\n",
    "for i in verb_not:\n",
    "    if i not in verb:\n",
    "        count += 1\n",
    "print('Глаголы, использующиеся только с \"не\"', count)"
   ]
  },
  {
   "cell_type": "code",
   "execution_count": 35,
   "metadata": {},
   "outputs": [
    {
     "name": "stdout",
     "output_type": "stream",
     "text": [
      "Глаголы, использующиеся только без \"не\" 9096\n"
     ]
    }
   ],
   "source": [
    "count = 0\n",
    "for i in verb:\n",
    "    if i not in verb_not:\n",
    "        count += 1\n",
    "print('Глаголы, использующиеся только без \"не\"', count)"
   ]
  },
  {
   "cell_type": "code",
   "execution_count": 36,
   "metadata": {},
   "outputs": [
    {
     "name": "stdout",
     "output_type": "stream",
     "text": [
      "Глаголы, использующиеся и с \"не\" и без \"не\" 12652\n"
     ]
    }
   ],
   "source": [
    "count = 0\n",
    "for i in verb:\n",
    "    if i in verb_not:\n",
    "        count += 1\n",
    "print('Глаголы, использующиеся и с \"не\" и без \"не\"', count)"
   ]
  },
  {
   "cell_type": "code",
   "execution_count": null,
   "metadata": {},
   "outputs": [],
   "source": []
  }
 ],
 "metadata": {
  "kernelspec": {
   "display_name": "Python 3",
   "language": "python",
   "name": "python3"
  },
  "language_info": {
   "codemirror_mode": {
    "name": "ipython",
    "version": 3
   },
   "file_extension": ".py",
   "mimetype": "text/x-python",
   "name": "python",
   "nbconvert_exporter": "python",
   "pygments_lexer": "ipython3",
   "version": "3.6.9"
  }
 },
 "nbformat": 4,
 "nbformat_minor": 2
}
