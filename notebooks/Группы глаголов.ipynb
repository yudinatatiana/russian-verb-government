{
 "cells": [
  {
   "cell_type": "code",
   "execution_count": 1,
   "metadata": {},
   "outputs": [],
   "source": [
    "import json"
   ]
  },
  {
   "cell_type": "code",
   "execution_count": 158,
   "metadata": {},
   "outputs": [],
   "source": [
    "with open('./all_data_after_filter_2.json', 'r', encoding='UTF-8') as f:\n",
    "    json_data = json.load(f)"
   ]
  },
  {
   "cell_type": "code",
   "execution_count": 159,
   "metadata": {},
   "outputs": [],
   "source": [
    "def count_stat(a, count=None):\n",
    "    if count is None: count = 0\n",
    "    for key in a:\n",
    "        if isinstance(a[key], dict):\n",
    "            count = count_stat(a[key], count)\n",
    "        else:\n",
    "            count += a[key]\n",
    "    return count"
   ]
  },
  {
   "cell_type": "markdown",
   "metadata": {},
   "source": [
    "[Основные глаголы движения вот тут](https://cyberleninka.ru/article/n/glagoly-dvizheniya-v-russkom-yazyke-i-osobennosti-ih-prepodavaniya-v-kitayskoy-auditorii/pdf)\n",
    "\n",
    "[Подробно глаголы брала вот тут](https://elar.urfu.ru/bitstream/10995/1744/1/1334883_schoolbook.pdf)"
   ]
  },
  {
   "cell_type": "code",
   "execution_count": 160,
   "metadata": {},
   "outputs": [],
   "source": [
    "verb_list = [\n",
    "    'бежать', 'бегать', 'брести', 'бродить', 'блуждать', \n",
    "    'везти', 'возить', 'вести', 'водить', 'войти', 'входить', 'вбежать', 'вбегать', 'въехать', 'въезжать', 'влететь', 'влетать',\n",
    "    'вползти', 'вползать', 'влезть', 'влезать', 'вплыть', 'вплывать', 'втащить', 'втаскивать', 'вносить', 'внести', \n",
    "    'ввезти', 'ввозить', 'выйти', 'выходить', 'выехать', 'выезжать', 'выбежать', 'выбегать', 'вылезти', 'вылезать', \n",
    "    'вылезть', 'вылететь', 'вылетать', 'вынести', 'выносить', 'вывезти', 'вывозить', 'вывести', 'выводить', \n",
    "    'взойти', 'всходить', 'восходить', 'взбежать', 'взбегать', 'взлететь', 'взлетать', 'всплыть', 'всплывать',\n",
    "    'гнать', 'гонять', 'гнаться', 'гоняться', 'гулять',\n",
    "    'двинуть', 'дать',\n",
    "    'доехать', 'доезжать', 'дойти', 'доходить', 'добежать', 'добегать', 'долететь', 'долетать', \n",
    "    'доплыть', 'доплывать', 'доползти', 'доползать', 'донести', 'доносить', 'довести', 'доводить',\n",
    "    'довезти', 'довозить', 'дотащить',  'дотаскивать',\n",
    "    'ехать', 'ездить',\n",
    "    'зайти', 'заходить', 'заехать', 'заезжать', 'забежать', 'забегать', 'залететь', 'залетать', 'заплыть', 'заплывать', \n",
    "    'идти',  \n",
    "    'изъездить', 'исходить', 'излазить', \n",
    "    'катить', 'катать', 'катиться', 'кататься', \n",
    "    'лезть', 'лазить', 'лететь', 'летать', \n",
    "    'нести', 'носить', 'нестись', 'носиться', \n",
    "    'наехать', 'наступить', 'наступать', 'наскочить', 'наскакивать', 'нагуляться', 'накупаться', \n",
    "    'обойти', 'обходить', 'объехать', 'объезжать', 'облететь', 'облетать', 'обежать', 'обегать',\n",
    "    'отойти', 'отходить', 'отъехать', 'отъезжать', 'отлететь', 'отлетать', 'отбежать', 'отбегать', \n",
    "    'отползти', 'отползать', 'отнести', 'относить', 'отвести', 'отводить', 'отвезти', 'отвозить', \n",
    "    'плыть', 'плавать', 'ползти', 'ползать', 'прыгнуть', 'прыгать',\n",
    "    'подойти', 'подходить', 'подъехать', 'подъезжать', 'подплыть', 'подплывать', 'подтащить', 'подтаскивать', \n",
    "    'поднести', 'подносить', 'подвести', 'подводить', 'подвезти', 'подвозить',\n",
    "    'подползти', 'подползать', 'подняться', 'подниматься', 'подпрыгнуть', 'подпрыгивать',     \n",
    "    'перейти', 'переходить', 'переехать', 'переезжать', 'перебежать', 'перебегать', \n",
    "    'переплыть', 'переплывать', 'перелететь', 'перелетать', 'перелезть', 'перелезать', \n",
    "    'переправиться', 'переправляться', 'перепрыгнуть', 'перепрыгивать', 'перешагнуть', 'перешагивать', \n",
    "    'перенести', 'переносить', 'перевезти', 'перевозить', 'перевести', 'переводить', \n",
    "    'прийти', 'приходить', 'приехать', 'приезжать', 'прилететь', 'прилетать', 'прибежать', 'прибегать', \n",
    "    'пройти', 'проходить', 'проехать', 'проезжать', 'проскакать', 'провести', 'проводить', 'пробежать',\n",
    "    'провезти', 'провозить', 'проникнуть', 'проникать', 'пробраться', 'пробираться', 'пролететь', 'промчаться',\n",
    "    'разойтись', 'расходиться', 'разъехаться', 'разъезжаться', 'разлететься', 'разлетаться', 'разбежаться', 'разбегаться', \n",
    "    'рысить', \n",
    "    'семенить', \n",
    "    'сходить', 'съездить', 'сбегать', 'слетать', 'сводить', 'свозить', \n",
    "    'съехать', 'съезжать', 'сойти', 'слететь', 'сбежать', \n",
    "    'спрыгнуть', 'спрыгивать', 'спуститься', 'спускаться',\n",
    "    'сойтись', 'сходиться', 'съехаться', 'съезжаться', 'сбежаться', 'сбегаться', 'слететься', 'слетаться',\n",
    "    'тащить', 'таскать', 'тащиться', 'таскаться',   \n",
    "    'уйти', 'уходить', 'уехать', 'уезжать', 'убежать', 'убегать', 'улететь', 'улетать', \n",
    "    'увести', 'уводить', 'увезти', 'увозить', \n",
    "    'ходить'\n",
    "]"
   ]
  },
  {
   "cell_type": "code",
   "execution_count": 161,
   "metadata": {},
   "outputs": [
    {
     "data": {
      "text/plain": [
       "265"
      ]
     },
     "execution_count": 161,
     "metadata": {},
     "output_type": "execute_result"
    }
   ],
   "source": [
    "len(verb_list)"
   ]
  },
  {
   "cell_type": "code",
   "execution_count": 162,
   "metadata": {},
   "outputs": [],
   "source": [
    "verb_set = set(verb_list)"
   ]
  },
  {
   "cell_type": "code",
   "execution_count": 163,
   "metadata": {},
   "outputs": [
    {
     "data": {
      "text/plain": [
       "265"
      ]
     },
     "execution_count": 163,
     "metadata": {},
     "output_type": "execute_result"
    }
   ],
   "source": [
    "len(verb_set)"
   ]
  },
  {
   "cell_type": "code",
   "execution_count": 164,
   "metadata": {},
   "outputs": [],
   "source": [
    "for i in verb_set:\n",
    "    count = 0\n",
    "    for j in verb_list:\n",
    "        if i == j:\n",
    "            count += 1\n",
    "    if count > 1:\n",
    "        print(i)"
   ]
  },
  {
   "cell_type": "code",
   "execution_count": 165,
   "metadata": {},
   "outputs": [],
   "source": [
    "data_for_experiment = dict()\n",
    "for verb in json_data['_']:\n",
    "    for run_verb in verb_set:\n",
    "        if run_verb == verb:\n",
    "            for adp in json_data['_'][verb]:\n",
    "                for case in json_data['_'][verb][adp]:\n",
    "                    if len(json_data['_'][verb][adp][case]) >= 40:\n",
    "                        if verb not in data_for_experiment:\n",
    "                            data_for_experiment[verb] = dict()\n",
    "                        if adp not in data_for_experiment[verb]:\n",
    "                            data_for_experiment[verb][adp] = dict()\n",
    "                        data_for_experiment[verb][adp][case] = json_data['_'][verb][adp][case]"
   ]
  },
  {
   "cell_type": "code",
   "execution_count": 166,
   "metadata": {},
   "outputs": [
    {
     "data": {
      "text/plain": [
       "222"
      ]
     },
     "execution_count": 166,
     "metadata": {},
     "output_type": "execute_result"
    }
   ],
   "source": [
    "len(data_for_experiment)"
   ]
  },
  {
   "cell_type": "code",
   "execution_count": 167,
   "metadata": {},
   "outputs": [
    {
     "data": {
      "text/plain": [
       "1752"
      ]
     },
     "execution_count": 167,
     "metadata": {},
     "output_type": "execute_result"
    }
   ],
   "source": [
    "count = 0\n",
    "for verb in data_for_experiment:\n",
    "    for adp in data_for_experiment[verb]:\n",
    "        for case in data_for_experiment[verb][adp]:\n",
    "            count += 1\n",
    "count"
   ]
  },
  {
   "cell_type": "code",
   "execution_count": 168,
   "metadata": {},
   "outputs": [
    {
     "data": {
      "text/plain": [
       "58"
      ]
     },
     "execution_count": 168,
     "metadata": {},
     "output_type": "execute_result"
    }
   ],
   "source": [
    "adp_case = set()\n",
    "for verb in data_for_experiment:\n",
    "    for adp in data_for_experiment[verb]:\n",
    "        for case in data_for_experiment[verb][adp]:\n",
    "            adp_case.add(f\"{adp}_{case}\")\n",
    "len(adp_case)"
   ]
  },
  {
   "cell_type": "code",
   "execution_count": 169,
   "metadata": {},
   "outputs": [
    {
     "data": {
      "text/plain": [
       "1816693"
      ]
     },
     "execution_count": 169,
     "metadata": {},
     "output_type": "execute_result"
    }
   ],
   "source": [
    "count_stat(data_for_experiment)"
   ]
  },
  {
   "cell_type": "code",
   "execution_count": 170,
   "metadata": {},
   "outputs": [
    {
     "data": {
      "text/plain": [
       "dict_keys(['вползти', 'дать', 'перевезти', 'уйти', 'пробежать', 'увозить', 'подъехать', 'провести', 'перейти', 'подойти', 'зайти', 'перенести', 'прийти', 'пройти', 'идти', 'наступить', 'выводить', 'отойти', 'войти', 'приходить', 'проходить', 'проводить', 'носить', 'подпрыгнуть', 'выходить', 'переходить', 'подвести', 'пролететь', 'спуститься', 'лезть', 'подниматься', 'выйти', 'бежать', 'доплыть', 'вывести', 'вести', 'подходить', 'сходить', 'провозить', 'отвести', 'улетать', 'вылезти', 'приехать', 'спускаться', 'заходить', 'проехать', 'убегать', 'поднести', 'переносить', 'подняться', 'убежать', 'тащить', 'уехать', 'обойти', 'исходить', 'носиться', 'обходить', 'лететь', 'гнаться', 'подъезжать', 'ехать', 'перевозить', 'ходить', 'увезти', 'выехать', 'проникнуть', 'разбегаться', 'внести', 'вбежать', 'проникать', 'дойти', 'переводить', 'сойти', 'подпрыгивать', 'сбегать', 'катиться', 'отвезти', 'перевести', 'нестись', 'кататься', 'заехать', 'водить', 'ездить', 'бегать', 'выносить', 'уводить', 'довести', 'разойтись', 'отлететь', 'входить', 'нести', 'съездить', 'заезжать', 'доходить', 'съехать', 'лазить', 'увести', 'всплыть', 'вылететь', 'вылетать', 'отъехать', 'въехать', 'переехать', 'пробираться', 'съезжаться', 'взлететь', 'блуждать', 'спрыгнуть', 'отнести', 'выбежать', 'выбегать', 'бродить', 'плавать', 'уезжать', 'прыгать', 'вынести', 'сводить', 'провезти', 'гоняться', 'гулять', 'прибегать', 'подвезти', 'слететь', 'пробраться', 'перелезать', 'расходиться', 'сойтись', 'подводить', 'доводить', 'уходить', 'приезжать', 'брести', 'улететь', 'гнать', 'доехать', 'летать', 'плыть', 'наехать', 'сходиться', 'ползти', 'подползти', 'наступать', 'прибежать', 'сбежать', 'доносить', 'разлететься', 'катить', 'забежать', 'ползать', 'облететь', 'доползти', 'прилететь', 'разъехаться', 'отходить', 'слетать', 'перешагнуть', 'взлетать', 'везти', 'перепрыгивать', 'влететь', 'отводить', 'втащить', 'всплывать', 'отвозить', 'отъезжать', 'долететь', 'проезжать', 'объезжать', 'перелезть', 'подносить', 'тащиться', 'таскать', 'выезжать', 'свозить', 'влезать', 'переезжать', 'долетать', 'облетать', 'прыгнуть', 'обежать', 'гонять', 'донести', 'добежать', 'промчаться', 'подплыть', 'относить', 'забегать', 'объехать', 'въезжать', 'возить', 'катать', 'довезти', 'вывозить', 'подвозить', 'вылезать', 'таскаться', 'вносить', 'вывезти', 'взойти', 'разлетаться', 'перепрыгнуть', 'перелететь', 'ввезти', 'двинуть', 'влезть', 'наскочить', 'дотащить', 'вплыть', 'влетать', 'перебегать', 'спрыгивать', 'подтащить', 'ввозить', 'прилетать', 'разбежаться', 'перешагивать', 'восходить', 'съехаться', 'съезжать', 'обегать', 'залететь', 'залетать'])"
      ]
     },
     "execution_count": 170,
     "metadata": {},
     "output_type": "execute_result"
    }
   ],
   "source": [
    "data_for_experiment.keys()"
   ]
  },
  {
   "cell_type": "code",
   "execution_count": 171,
   "metadata": {},
   "outputs": [],
   "source": [
    "with open('./run_verbs_2.json', 'w', encoding='UTF-8') as f:\n",
    "    json.dump(data_for_experiment, f)"
   ]
  },
  {
   "cell_type": "code",
   "execution_count": 172,
   "metadata": {},
   "outputs": [],
   "source": [
    "with open('./run_verbs_2.json', 'r', encoding='UTF-8') as f:\n",
    "    data_for_experiment = json.load(f)"
   ]
  },
  {
   "cell_type": "code",
   "execution_count": 173,
   "metadata": {},
   "outputs": [
    {
     "name": "stdout",
     "output_type": "stream",
     "text": [
      "Количество глаголов 222\n"
     ]
    }
   ],
   "source": [
    "print(\"Количество глаголов\", len(data_for_experiment))"
   ]
  },
  {
   "cell_type": "code",
   "execution_count": 174,
   "metadata": {},
   "outputs": [],
   "source": [
    "all_data = dict()\n",
    "\n",
    "for verb in data_for_experiment:\n",
    "    for adp in data_for_experiment[verb]:\n",
    "        for case in data_for_experiment[verb][adp]:\n",
    "            vg = f\"{adp}_{case}\"\n",
    "            if vg not in all_data:\n",
    "                all_data[vg] = dict()\n",
    "            all_data[vg][verb] = data_for_experiment[verb][adp][case]"
   ]
  },
  {
   "cell_type": "code",
   "execution_count": 175,
   "metadata": {},
   "outputs": [
    {
     "data": {
      "text/plain": [
       "58"
      ]
     },
     "execution_count": 175,
     "metadata": {},
     "output_type": "execute_result"
    }
   ],
   "source": [
    "len(all_data) #всего разных управлений"
   ]
  },
  {
   "cell_type": "code",
   "execution_count": 176,
   "metadata": {},
   "outputs": [
    {
     "data": {
      "text/plain": [
       "10512"
      ]
     },
     "execution_count": 176,
     "metadata": {},
     "output_type": "execute_result"
    }
   ],
   "source": [
    "count_models = 0\n",
    "\n",
    "for vg in all_data:\n",
    "    for verb in all_data[vg]:\n",
    "        count_models += 6\n",
    "count_models"
   ]
  },
  {
   "cell_type": "code",
   "execution_count": 177,
   "metadata": {},
   "outputs": [],
   "source": [
    "nouns = set()\n",
    "for verb in data_for_experiment:\n",
    "    for adp in data_for_experiment[verb]:\n",
    "        for case in data_for_experiment[verb][adp]:\n",
    "            nouns.update(data_for_experiment[verb][adp][case].keys())"
   ]
  },
  {
   "cell_type": "code",
   "execution_count": 178,
   "metadata": {},
   "outputs": [
    {
     "data": {
      "text/plain": [
       "22222"
      ]
     },
     "execution_count": 178,
     "metadata": {},
     "output_type": "execute_result"
    }
   ],
   "source": [
    "len(nouns)"
   ]
  },
  {
   "cell_type": "markdown",
   "metadata": {},
   "source": [
    "## Глаголы мысли"
   ]
  },
  {
   "cell_type": "markdown",
   "metadata": {},
   "source": [
    "https://cyberleninka.ru/article/n/glagoly-mysli-v-russkom-yazyke-i-ih-kontseptualno-semanticheskie-osobennosti/pdf"
   ]
  },
  {
   "cell_type": "code",
   "execution_count": 309,
   "metadata": {},
   "outputs": [],
   "source": [
    "verb_list_think = [\n",
    "    'думать', 'подумать', 'подумывать','обдумать', 'обдумывать', 'задумать', 'задумывать', 'задуматься', \n",
    "    'передумать', 'передумывать', 'придумать', 'придумывать', 'додумать', 'додумывать', 'надумать', 'надумывать',\n",
    "    'продумать', 'продумывать', 'раздумать', 'раздумывать',\n",
    "    'догадаться', 'догадываться', 'угадать', 'угадывать', 'подгадать', 'подгадывать', 'выгадать', \n",
    "    'загадать', 'загадывать', 'отгадать', 'отгадывать', 'разгадать', 'разгадывать',\n",
    "    'понять', 'понимать', \n",
    "    'предложить', 'предположить',\n",
    "    'представить', 'представиться', \n",
    "    'сомневаться', \n",
    "    'мыслить', 'домыслить', 'замыслить', \n",
    "    'осенить', 'озарить',  \n",
    "    'слушать', 'заслушаться', 'наслушаться',\n",
    "    'смотреть', 'засмотреться', 'насмотреться',\n",
    "    'любоваться', 'залюбоваться', 'налюбоваться',\n",
    "    'мечтать', 'замечтаться',\n",
    "    'обсудить', 'обсуждать', \n",
    "    'описать', 'описывать',\n",
    "]"
   ]
  },
  {
   "cell_type": "code",
   "execution_count": 310,
   "metadata": {},
   "outputs": [
    {
     "data": {
      "text/plain": [
       "60"
      ]
     },
     "execution_count": 310,
     "metadata": {},
     "output_type": "execute_result"
    }
   ],
   "source": [
    "len(verb_list_think)"
   ]
  },
  {
   "cell_type": "code",
   "execution_count": 311,
   "metadata": {},
   "outputs": [],
   "source": [
    "verb_set_think = set(verb_list_think)"
   ]
  },
  {
   "cell_type": "code",
   "execution_count": 312,
   "metadata": {},
   "outputs": [
    {
     "data": {
      "text/plain": [
       "60"
      ]
     },
     "execution_count": 312,
     "metadata": {},
     "output_type": "execute_result"
    }
   ],
   "source": [
    "len(verb_set_think)"
   ]
  },
  {
   "cell_type": "code",
   "execution_count": 313,
   "metadata": {},
   "outputs": [],
   "source": [
    "for i in verb_set_think:\n",
    "    count = 0\n",
    "    for j in verb_list_think:\n",
    "        if i == j:\n",
    "            count += 1\n",
    "    if count > 1:\n",
    "        print(i)"
   ]
  },
  {
   "cell_type": "code",
   "execution_count": 314,
   "metadata": {},
   "outputs": [],
   "source": [
    "data_for_experiment_think = dict()\n",
    "for verb in json_data['_']:\n",
    "    for think_verb in verb_set_think:\n",
    "        if think_verb == verb:\n",
    "            for adp in json_data['_'][verb]:\n",
    "                for case in json_data['_'][verb][adp]:\n",
    "                    if len(json_data['_'][verb][adp][case]) >= 40:\n",
    "                        if verb not in data_for_experiment_think:\n",
    "                            data_for_experiment_think[verb] = dict()\n",
    "                        if adp not in data_for_experiment_think[verb]:\n",
    "                            data_for_experiment_think[verb][adp] = dict()\n",
    "                        data_for_experiment_think[verb][adp][case] = json_data['_'][verb][adp][case]"
   ]
  },
  {
   "cell_type": "code",
   "execution_count": 315,
   "metadata": {},
   "outputs": [
    {
     "data": {
      "text/plain": [
       "44"
      ]
     },
     "execution_count": 315,
     "metadata": {},
     "output_type": "execute_result"
    }
   ],
   "source": [
    "len(data_for_experiment_think)"
   ]
  },
  {
   "cell_type": "code",
   "execution_count": 316,
   "metadata": {},
   "outputs": [
    {
     "data": {
      "text/plain": [
       "273"
      ]
     },
     "execution_count": 316,
     "metadata": {},
     "output_type": "execute_result"
    }
   ],
   "source": [
    "count = 0\n",
    "for verb in data_for_experiment_think:\n",
    "    for adp in data_for_experiment_think[verb]:\n",
    "        for case in data_for_experiment_think[verb][adp]:\n",
    "            count += 1\n",
    "count"
   ]
  },
  {
   "cell_type": "code",
   "execution_count": 317,
   "metadata": {},
   "outputs": [
    {
     "data": {
      "text/plain": [
       "42"
      ]
     },
     "execution_count": 317,
     "metadata": {},
     "output_type": "execute_result"
    }
   ],
   "source": [
    "adp_case = set()\n",
    "for verb in data_for_experiment_think:\n",
    "    for adp in data_for_experiment_think[verb]:\n",
    "        for case in data_for_experiment_think[verb][adp]:\n",
    "            adp_case.add(f\"{adp}_{case}\")\n",
    "len(adp_case)"
   ]
  },
  {
   "cell_type": "code",
   "execution_count": 318,
   "metadata": {},
   "outputs": [
    {
     "data": {
      "text/plain": [
       "369279"
      ]
     },
     "execution_count": 318,
     "metadata": {},
     "output_type": "execute_result"
    }
   ],
   "source": [
    "count_stat(data_for_experiment_think)"
   ]
  },
  {
   "cell_type": "code",
   "execution_count": 319,
   "metadata": {},
   "outputs": [],
   "source": [
    "with open('./think_verbs_1.json', 'w', encoding='UTF-8') as f:\n",
    "    json.dump(data_for_experiment_think, f)"
   ]
  },
  {
   "cell_type": "code",
   "execution_count": 320,
   "metadata": {},
   "outputs": [],
   "source": [
    "all_data = dict()\n",
    "\n",
    "for verb in data_for_experiment_think:\n",
    "    for adp in data_for_experiment_think[verb]:\n",
    "        for case in data_for_experiment_think[verb][adp]:\n",
    "            vg = f\"{adp}_{case}\"\n",
    "            if vg not in all_data:\n",
    "                all_data[vg] = dict()\n",
    "            all_data[vg][verb] = data_for_experiment_think[verb][adp][case]"
   ]
  },
  {
   "cell_type": "code",
   "execution_count": 321,
   "metadata": {},
   "outputs": [
    {
     "data": {
      "text/plain": [
       "42"
      ]
     },
     "execution_count": 321,
     "metadata": {},
     "output_type": "execute_result"
    }
   ],
   "source": [
    "len(all_data)"
   ]
  },
  {
   "cell_type": "code",
   "execution_count": 322,
   "metadata": {},
   "outputs": [
    {
     "data": {
      "text/plain": [
       "1638"
      ]
     },
     "execution_count": 322,
     "metadata": {},
     "output_type": "execute_result"
    }
   ],
   "source": [
    "count_models = 0\n",
    "\n",
    "for vg in all_data:\n",
    "    for verb in all_data[vg]:\n",
    "        count_models += 6\n",
    "count_models"
   ]
  },
  {
   "cell_type": "code",
   "execution_count": 323,
   "metadata": {},
   "outputs": [],
   "source": [
    "nouns = set()\n",
    "for verb in data_for_experiment_think:\n",
    "    for adp in data_for_experiment_think[verb]:\n",
    "        for case in data_for_experiment_think[verb][adp]:\n",
    "            nouns.update(data_for_experiment_think[verb][adp][case].keys())"
   ]
  },
  {
   "cell_type": "code",
   "execution_count": 324,
   "metadata": {},
   "outputs": [
    {
     "data": {
      "text/plain": [
       "13039"
      ]
     },
     "execution_count": 324,
     "metadata": {},
     "output_type": "execute_result"
    }
   ],
   "source": [
    "len(nouns)"
   ]
  },
  {
   "cell_type": "markdown",
   "metadata": {},
   "source": [
    "## Оценка времени на выполнение"
   ]
  },
  {
   "cell_type": "code",
   "execution_count": 5,
   "metadata": {},
   "outputs": [],
   "source": [
    "with open('./run_verbs.json', 'r', encoding='UTF-8') as f:\n",
    "    json_data = json.load(f)"
   ]
  },
  {
   "cell_type": "code",
   "execution_count": 6,
   "metadata": {},
   "outputs": [],
   "source": [
    "def get_all_data(json_data):\n",
    "\n",
    "    all_data = dict()\n",
    "\n",
    "    for verb in json_data:\n",
    "        for adp in json_data[verb]:\n",
    "            for case in json_data[verb][adp]:\n",
    "                vg = f\"{adp}_{case}\"\n",
    "                if vg not in all_data:\n",
    "                    all_data[vg] = dict()\n",
    "                all_data[vg][verb] = json_data[verb][adp][case]\n",
    "    return all_data"
   ]
  },
  {
   "cell_type": "code",
   "execution_count": 8,
   "metadata": {},
   "outputs": [],
   "source": [
    "def calculate_models_count(all_data):\n",
    "\n",
    "    count_models = 0\n",
    "\n",
    "    for vg in all_data:\n",
    "        for verb in all_data[vg]:\n",
    "            count_models += 6\n",
    "    return count_models"
   ]
  },
  {
   "cell_type": "code",
   "execution_count": 7,
   "metadata": {},
   "outputs": [],
   "source": [
    "run_verbs = get_all_data(json_data)"
   ]
  },
  {
   "cell_type": "code",
   "execution_count": 9,
   "metadata": {},
   "outputs": [
    {
     "data": {
      "text/plain": [
       "2862"
      ]
     },
     "execution_count": 9,
     "metadata": {},
     "output_type": "execute_result"
    }
   ],
   "source": [
    "calculate_models_count(run_verbs)"
   ]
  },
  {
   "cell_type": "code",
   "execution_count": 10,
   "metadata": {},
   "outputs": [],
   "source": [
    "with open('./think_verbs_1.json', 'r', encoding='UTF-8') as f:\n",
    "    json_data = json.load(f)"
   ]
  },
  {
   "cell_type": "code",
   "execution_count": 11,
   "metadata": {},
   "outputs": [],
   "source": [
    "think_verbs = get_all_data(json_data)"
   ]
  },
  {
   "cell_type": "code",
   "execution_count": 12,
   "metadata": {},
   "outputs": [
    {
     "data": {
      "text/plain": [
       "1638"
      ]
     },
     "execution_count": 12,
     "metadata": {},
     "output_type": "execute_result"
    }
   ],
   "source": [
    "calculate_models_count(think_verbs)"
   ]
  },
  {
   "cell_type": "markdown",
   "metadata": {},
   "source": [
    "# Статистика для ВКР"
   ]
  },
  {
   "cell_type": "code",
   "execution_count": 25,
   "metadata": {},
   "outputs": [],
   "source": [
    "def count_vg(data):\n",
    "    vg_set = set()\n",
    "    for verb in data:\n",
    "        for adp in data[verb]:\n",
    "            for case in data[verb][adp]:\n",
    "                vg = f\"{adp}_{case}\"\n",
    "                vg_set.add(vg)\n",
    "    return vg_set"
   ]
  },
  {
   "cell_type": "code",
   "execution_count": 29,
   "metadata": {},
   "outputs": [],
   "source": [
    "def count_noun(data):\n",
    "    noun_set = set()\n",
    "    for verb in data:\n",
    "        for adp in data[verb]:\n",
    "            for case in data[verb][adp]:\n",
    "                noun_set.update(data[verb][adp][case].keys())\n",
    "    return noun_set"
   ]
  },
  {
   "cell_type": "code",
   "execution_count": 31,
   "metadata": {},
   "outputs": [],
   "source": [
    "def count_models(data):\n",
    "    count = 0\n",
    "    for verb in data:\n",
    "        for adp in data[verb]:\n",
    "            for case in data[verb][adp]:\n",
    "                count += 6\n",
    "    return count"
   ]
  },
  {
   "cell_type": "code",
   "execution_count": 40,
   "metadata": {},
   "outputs": [],
   "source": [
    "def print_list(verb_list):\n",
    "    res_string = ''\n",
    "    for verb in verb_list:\n",
    "        res_string += f'\"{verb}\", '\n",
    "    return res_string[:-2]"
   ]
  },
  {
   "cell_type": "markdown",
   "metadata": {},
   "source": [
    "### 61 глагол движения"
   ]
  },
  {
   "cell_type": "code",
   "execution_count": 41,
   "metadata": {},
   "outputs": [],
   "source": [
    "with open('./run_verbs.json', 'r', encoding='UTF-8') as f:\n",
    "    run_verbs_1 = json.load(f)"
   ]
  },
  {
   "cell_type": "code",
   "execution_count": 42,
   "metadata": {},
   "outputs": [
    {
     "data": {
      "text/plain": [
       "'\"бегать\", \"бежать\", \"блуждать\", \"брести\", \"бродить\", \"вбежать\", \"ввезти\", \"ввозить\", \"везти\", \"вести\", \"влезать\", \"влезть\", \"влетать\", \"влететь\", \"внести\", \"вносить\", \"водить\", \"возить\", \"войти\", \"втащить\", \"входить\", \"въезжать\", \"въехать\", \"выбегать\", \"выбежать\", \"выезжать\", \"выехать\", \"выйти\", \"вылезать\", \"вылезти\", \"вылетать\", \"вылететь\", \"выходить\", \"гнать\", \"гнаться\", \"гонять\", \"гоняться\", \"гулять\", \"ездить\", \"ехать\", \"идти\", \"катать\", \"кататься\", \"катить\", \"катиться\", \"лазить\", \"лезть\", \"летать\", \"лететь\", \"нести\", \"нестись\", \"носить\", \"носиться\", \"плавать\", \"плыть\", \"ползать\", \"ползти\", \"таскать\", \"таскаться\", \"тащить\", \"ходить\"'"
      ]
     },
     "execution_count": 42,
     "metadata": {},
     "output_type": "execute_result"
    }
   ],
   "source": [
    "print_list(sorted(list(run_verbs_1.keys())))"
   ]
  },
  {
   "cell_type": "code",
   "execution_count": 43,
   "metadata": {},
   "outputs": [
    {
     "name": "stdout",
     "output_type": "stream",
     "text": [
      "Количество глаголов 61\n"
     ]
    }
   ],
   "source": [
    "verb_count_1 = len(run_verbs_1)\n",
    "print('Количество глаголов', verb_count_1)"
   ]
  },
  {
   "cell_type": "code",
   "execution_count": 44,
   "metadata": {},
   "outputs": [
    {
     "name": "stdout",
     "output_type": "stream",
     "text": [
      "Количество моделей управления \"предлог + падеж\" 53\n"
     ]
    }
   ],
   "source": [
    "vg_set_1 = count_vg(run_verbs_1)\n",
    "print('Количество моделей управления \"предлог + падеж\"', len(vg_set_1))"
   ]
  },
  {
   "cell_type": "code",
   "execution_count": 45,
   "metadata": {},
   "outputs": [
    {
     "name": "stdout",
     "output_type": "stream",
     "text": [
      "Количество уникальных существительных 14729\n"
     ]
    }
   ],
   "source": [
    "noun_set_1 = count_noun(run_verbs_1)\n",
    "print('Количество уникальных существительных', len(noun_set_1))"
   ]
  },
  {
   "cell_type": "code",
   "execution_count": 75,
   "metadata": {},
   "outputs": [
    {
     "name": "stdout",
     "output_type": "stream",
     "text": [
      "Количество сочетаний вида \"глагол + предлог + падеж\" 477\n"
     ]
    }
   ],
   "source": [
    "print('Количество сочетаний вида \"глагол + предлог + падеж\"', int(count_models_1/6))"
   ]
  },
  {
   "cell_type": "code",
   "execution_count": 58,
   "metadata": {},
   "outputs": [
    {
     "name": "stdout",
     "output_type": "stream",
     "text": [
      "Количество моделей Kmeans 2862\n"
     ]
    }
   ],
   "source": [
    "count_models_1 = count_models(run_verbs_1)\n",
    "print('Количество моделей Kmeans', count_models_1)"
   ]
  },
  {
   "cell_type": "markdown",
   "metadata": {},
   "source": [
    "### 222 глагола движения"
   ]
  },
  {
   "cell_type": "code",
   "execution_count": 47,
   "metadata": {},
   "outputs": [],
   "source": [
    "with open('./run_verbs_2.json', 'r', encoding='UTF-8') as f:\n",
    "    run_verbs_2 = json.load(f)"
   ]
  },
  {
   "cell_type": "code",
   "execution_count": 48,
   "metadata": {},
   "outputs": [
    {
     "data": {
      "text/plain": [
       "'\"бегать\", \"бежать\", \"блуждать\", \"брести\", \"бродить\", \"вбежать\", \"ввезти\", \"ввозить\", \"везти\", \"вести\", \"взлетать\", \"взлететь\", \"взойти\", \"влезать\", \"влезть\", \"влетать\", \"влететь\", \"внести\", \"вносить\", \"водить\", \"возить\", \"войти\", \"восходить\", \"вплыть\", \"вползти\", \"всплывать\", \"всплыть\", \"втащить\", \"входить\", \"въезжать\", \"въехать\", \"выбегать\", \"выбежать\", \"вывезти\", \"вывести\", \"выводить\", \"вывозить\", \"выезжать\", \"выехать\", \"выйти\", \"вылезать\", \"вылезти\", \"вылетать\", \"вылететь\", \"вынести\", \"выносить\", \"выходить\", \"гнать\", \"гнаться\", \"гонять\", \"гоняться\", \"гулять\", \"дать\", \"двинуть\", \"добежать\", \"довезти\", \"довести\", \"доводить\", \"доехать\", \"дойти\", \"долетать\", \"долететь\", \"донести\", \"доносить\", \"доплыть\", \"доползти\", \"дотащить\", \"доходить\", \"ездить\", \"ехать\", \"забегать\", \"забежать\", \"заезжать\", \"заехать\", \"зайти\", \"залетать\", \"залететь\", \"заходить\", \"идти\", \"исходить\", \"катать\", \"кататься\", \"катить\", \"катиться\", \"лазить\", \"лезть\", \"летать\", \"лететь\", \"наехать\", \"наскочить\", \"наступать\", \"наступить\", \"нести\", \"нестись\", \"носить\", \"носиться\", \"обегать\", \"обежать\", \"облетать\", \"облететь\", \"обойти\", \"обходить\", \"объезжать\", \"объехать\", \"отвезти\", \"отвести\", \"отводить\", \"отвозить\", \"отлететь\", \"отнести\", \"относить\", \"отойти\", \"отходить\", \"отъезжать\", \"отъехать\", \"перебегать\", \"перевезти\", \"перевести\", \"переводить\", \"перевозить\", \"переезжать\", \"переехать\", \"перейти\", \"перелезать\", \"перелезть\", \"перелететь\", \"перенести\", \"переносить\", \"перепрыгивать\", \"перепрыгнуть\", \"переходить\", \"перешагивать\", \"перешагнуть\", \"плавать\", \"плыть\", \"подвезти\", \"подвести\", \"подводить\", \"подвозить\", \"поднести\", \"подниматься\", \"подносить\", \"подняться\", \"подойти\", \"подплыть\", \"подползти\", \"подпрыгивать\", \"подпрыгнуть\", \"подтащить\", \"подходить\", \"подъезжать\", \"подъехать\", \"ползать\", \"ползти\", \"прибегать\", \"прибежать\", \"приезжать\", \"приехать\", \"прийти\", \"прилетать\", \"прилететь\", \"приходить\", \"пробежать\", \"пробираться\", \"пробраться\", \"провезти\", \"провести\", \"проводить\", \"провозить\", \"проезжать\", \"проехать\", \"пройти\", \"пролететь\", \"промчаться\", \"проникать\", \"проникнуть\", \"проходить\", \"прыгать\", \"прыгнуть\", \"разбегаться\", \"разбежаться\", \"разлетаться\", \"разлететься\", \"разойтись\", \"разъехаться\", \"расходиться\", \"сбегать\", \"сбежать\", \"сводить\", \"свозить\", \"слетать\", \"слететь\", \"сойти\", \"сойтись\", \"спрыгивать\", \"спрыгнуть\", \"спускаться\", \"спуститься\", \"сходить\", \"сходиться\", \"съездить\", \"съезжать\", \"съезжаться\", \"съехать\", \"съехаться\", \"таскать\", \"таскаться\", \"тащить\", \"тащиться\", \"убегать\", \"убежать\", \"увезти\", \"увести\", \"уводить\", \"увозить\", \"уезжать\", \"уехать\", \"уйти\", \"улетать\", \"улететь\", \"уходить\", \"ходить\"'"
      ]
     },
     "execution_count": 48,
     "metadata": {},
     "output_type": "execute_result"
    }
   ],
   "source": [
    "print_list(sorted(list(run_verbs_2.keys())))"
   ]
  },
  {
   "cell_type": "code",
   "execution_count": 49,
   "metadata": {},
   "outputs": [
    {
     "name": "stdout",
     "output_type": "stream",
     "text": [
      "Количество глаголов 222\n"
     ]
    }
   ],
   "source": [
    "verb_count_2 = len(run_verbs_2)\n",
    "print('Количество глаголов', verb_count_2)"
   ]
  },
  {
   "cell_type": "code",
   "execution_count": 50,
   "metadata": {},
   "outputs": [
    {
     "name": "stdout",
     "output_type": "stream",
     "text": [
      "Количество моделей управления \"предлог + падеж\" 58\n"
     ]
    }
   ],
   "source": [
    "vg_set_2 = count_vg(run_verbs_2)\n",
    "print('Количество моделей управления \"предлог + падеж\"', len(vg_set_2))"
   ]
  },
  {
   "cell_type": "code",
   "execution_count": 51,
   "metadata": {},
   "outputs": [
    {
     "name": "stdout",
     "output_type": "stream",
     "text": [
      "Количество уникальных существительных 22222\n"
     ]
    }
   ],
   "source": [
    "noun_set_2 = count_noun(run_verbs_2)\n",
    "print('Количество уникальных существительных', len(noun_set_2))"
   ]
  },
  {
   "cell_type": "code",
   "execution_count": 77,
   "metadata": {},
   "outputs": [
    {
     "name": "stdout",
     "output_type": "stream",
     "text": [
      "Количество сочетаний вида \"глагол + предлог + падеж\" 1752\n"
     ]
    }
   ],
   "source": [
    "print('Количество сочетаний вида \"глагол + предлог + падеж\"', int(count_models_2/6))"
   ]
  },
  {
   "cell_type": "code",
   "execution_count": 59,
   "metadata": {},
   "outputs": [
    {
     "name": "stdout",
     "output_type": "stream",
     "text": [
      "Количество моделей Kmeans 10512\n"
     ]
    }
   ],
   "source": [
    "count_models_2 = count_models(run_verbs_2)\n",
    "print('Количество моделей Kmeans', count_models_2)"
   ]
  },
  {
   "cell_type": "markdown",
   "metadata": {},
   "source": [
    "### 44 Глагола мышления"
   ]
  },
  {
   "cell_type": "code",
   "execution_count": 53,
   "metadata": {},
   "outputs": [],
   "source": [
    "with open('./think_verbs_1.json', 'r', encoding='UTF-8') as f:\n",
    "    think_verbs_1 = json.load(f)"
   ]
  },
  {
   "cell_type": "code",
   "execution_count": 55,
   "metadata": {},
   "outputs": [
    {
     "data": {
      "text/plain": [
       "'\"догадаться\", \"догадываться\", \"думать\", \"задумать\", \"задуматься\", \"задумывать\", \"залюбоваться\", \"замыслить\", \"засмотреться\", \"любоваться\", \"мечтать\", \"мыслить\", \"налюбоваться\", \"наслушаться\", \"насмотреться\", \"обдумать\", \"обдумывать\", \"обсудить\", \"обсуждать\", \"озарить\", \"описать\", \"описывать\", \"осенить\", \"передумать\", \"подумать\", \"подумывать\", \"понимать\", \"понять\", \"предложить\", \"предположить\", \"представить\", \"представиться\", \"придумать\", \"придумывать\", \"продумать\", \"продумывать\", \"разгадать\", \"разгадывать\", \"раздумывать\", \"слушать\", \"смотреть\", \"сомневаться\", \"угадать\", \"угадывать\"'"
      ]
     },
     "execution_count": 55,
     "metadata": {},
     "output_type": "execute_result"
    }
   ],
   "source": [
    "print_list(sorted(list(think_verbs_1.keys())))"
   ]
  },
  {
   "cell_type": "code",
   "execution_count": 54,
   "metadata": {},
   "outputs": [
    {
     "name": "stdout",
     "output_type": "stream",
     "text": [
      "Количество глаголов 44\n"
     ]
    }
   ],
   "source": [
    "verb_count_3 = len(think_verbs_1)\n",
    "print('Количество глаголов', verb_count_3)"
   ]
  },
  {
   "cell_type": "code",
   "execution_count": 56,
   "metadata": {},
   "outputs": [
    {
     "name": "stdout",
     "output_type": "stream",
     "text": [
      "Количество моделей управления \"предлог + падеж\" 42\n"
     ]
    }
   ],
   "source": [
    "vg_set_3 = count_vg(think_verbs_1)\n",
    "print('Количество моделей управления \"предлог + падеж\"', len(vg_set_3))"
   ]
  },
  {
   "cell_type": "code",
   "execution_count": 57,
   "metadata": {},
   "outputs": [
    {
     "name": "stdout",
     "output_type": "stream",
     "text": [
      "Количество уникальных существительных 13039\n"
     ]
    }
   ],
   "source": [
    "noun_set_3 = count_noun(think_verbs_1)\n",
    "print('Количество уникальных существительных', len(noun_set_3))"
   ]
  },
  {
   "cell_type": "code",
   "execution_count": 78,
   "metadata": {},
   "outputs": [
    {
     "name": "stdout",
     "output_type": "stream",
     "text": [
      "Количество сочетаний вида \"глагол + предлог + падеж\" 273\n"
     ]
    }
   ],
   "source": [
    "print('Количество сочетаний вида \"глагол + предлог + падеж\"', int(count_models_3/6))"
   ]
  },
  {
   "cell_type": "code",
   "execution_count": 60,
   "metadata": {},
   "outputs": [
    {
     "name": "stdout",
     "output_type": "stream",
     "text": [
      "Количество моделей Kmeans 1638\n"
     ]
    }
   ],
   "source": [
    "count_models_3 = count_models(think_verbs_1)\n",
    "print('Количество моделей Kmeans', count_models_3)"
   ]
  },
  {
   "cell_type": "code",
   "execution_count": null,
   "metadata": {},
   "outputs": [],
   "source": []
  }
 ],
 "metadata": {
  "kernelspec": {
   "display_name": "Python 3",
   "language": "python",
   "name": "python3"
  },
  "language_info": {
   "codemirror_mode": {
    "name": "ipython",
    "version": 3
   },
   "file_extension": ".py",
   "mimetype": "text/x-python",
   "name": "python",
   "nbconvert_exporter": "python",
   "pygments_lexer": "ipython3",
   "version": "3.6.9"
  }
 },
 "nbformat": 4,
 "nbformat_minor": 2
}
