{
 "cells": [
  {
   "cell_type": "code",
   "execution_count": 1,
   "metadata": {},
   "outputs": [],
   "source": [
    "import json\n",
    "import pandas as pd\n",
    "import gensim\n",
    "import zipfile\n",
    "import wget\n",
    "import numpy as np\n",
    "\n",
    "%matplotlib inline\n",
    "import matplotlib.pyplot as plt\n",
    "import seaborn as sns"
   ]
  },
  {
   "cell_type": "markdown",
   "metadata": {},
   "source": [
    "# Загрузка данных"
   ]
  },
  {
   "cell_type": "code",
   "execution_count": 3,
   "metadata": {},
   "outputs": [],
   "source": [
    "def count_stat(a, count=None):\n",
    "    if count is None: count = 0\n",
    "    for key in a:\n",
    "        if isinstance(a[key], dict):\n",
    "            count = count_stat(a[key], count)\n",
    "        else:\n",
    "            count += a[key]\n",
    "    return count"
   ]
  },
  {
   "cell_type": "code",
   "execution_count": 138,
   "metadata": {},
   "outputs": [],
   "source": [
    "def get_all_data(json_data):\n",
    "    all_data = dict()\n",
    "\n",
    "    for verb in json_data:\n",
    "        for adp in json_data[verb]:\n",
    "            for case in json_data[verb][adp]:\n",
    "                vg = f\"{adp}_{case}\"\n",
    "                if vg not in all_data:\n",
    "                    all_data[vg] = dict()\n",
    "                all_data[vg][verb] = json_data[verb][adp][case]\n",
    "    return all_data    "
   ]
  },
  {
   "cell_type": "markdown",
   "metadata": {},
   "source": [
    "### Песочница"
   ]
  },
  {
   "cell_type": "code",
   "execution_count": 31,
   "metadata": {},
   "outputs": [],
   "source": [
    "data = {\n",
    "    \"на_Loc\": {\n",
    "        \"бегать\": json_data['бегать']['на']['Loc'],\n",
    "        \"бежать\": json_data['бежать']['на']['Loc'],\n",
    "        \"нестись\": json_data['нестись']['на']['Loc']\n",
    "    }\n",
    "}"
   ]
  },
  {
   "cell_type": "markdown",
   "metadata": {},
   "source": [
    "### 60 глаголов движения"
   ]
  },
  {
   "cell_type": "code",
   "execution_count": 2,
   "metadata": {},
   "outputs": [],
   "source": [
    "with open('./run_verbs.json', 'r', encoding='UTF-8') as f:\n",
    "    json_data = json.load(f)"
   ]
  },
  {
   "cell_type": "code",
   "execution_count": 4,
   "metadata": {},
   "outputs": [],
   "source": [
    "noun = set()\n",
    "for verb in json_data:\n",
    "    for adp in json_data[verb]:\n",
    "        for case in json_data[verb][adp]:\n",
    "            noun.update(json_data[verb][adp][case])"
   ]
  },
  {
   "cell_type": "code",
   "execution_count": 5,
   "metadata": {},
   "outputs": [
    {
     "data": {
      "text/plain": [
       "14729"
      ]
     },
     "execution_count": 5,
     "metadata": {},
     "output_type": "execute_result"
    }
   ],
   "source": [
    "len(noun)"
   ]
  },
  {
   "cell_type": "code",
   "execution_count": 6,
   "metadata": {},
   "outputs": [
    {
     "data": {
      "text/plain": [
       "{'Acc': 118, 'Ins': 73, 'Gen': 141, 'Loc': 74, 'Dat': 71}"
      ]
     },
     "execution_count": 6,
     "metadata": {},
     "output_type": "execute_result"
    }
   ],
   "source": [
    "case_dict = dict()\n",
    "for verb in json_data:\n",
    "    for adp in json_data[verb]:\n",
    "        for case in json_data[verb][adp]:\n",
    "            if case not in case_dict:\n",
    "                case_dict[case] = 1\n",
    "            else:\n",
    "                case_dict[case] += 1\n",
    "case_dict"
   ]
  },
  {
   "cell_type": "code",
   "execution_count": 7,
   "metadata": {},
   "outputs": [
    {
     "data": {
      "text/plain": [
       "dict_keys(['идти', 'войти', 'носить', 'выходить', 'лезть', 'выйти', 'бежать', 'вести', 'вылезти', 'тащить', 'носиться', 'лететь', 'гнаться', 'ехать', 'ходить', 'выехать', 'внести', 'вбежать', 'катиться', 'нестись', 'кататься', 'водить', 'ездить', 'бегать', 'входить', 'нести', 'лазить', 'вылететь', 'вылетать', 'въехать', 'блуждать', 'выбежать', 'выбегать', 'бродить', 'плавать', 'гоняться', 'гулять', 'брести', 'гнать', 'летать', 'плыть', 'ползти', 'катить', 'ползать', 'везти', 'влететь', 'втащить', 'таскать', 'выезжать', 'влезать', 'гонять', 'въезжать', 'возить', 'катать', 'вылезать', 'таскаться', 'вносить', 'ввезти', 'влезть', 'влетать', 'ввозить'])"
      ]
     },
     "execution_count": 7,
     "metadata": {},
     "output_type": "execute_result"
    }
   ],
   "source": [
    "json_data.keys()"
   ]
  },
  {
   "cell_type": "code",
   "execution_count": 139,
   "metadata": {},
   "outputs": [],
   "source": [
    "all_data = get_all_data(json_data)"
   ]
  },
  {
   "cell_type": "code",
   "execution_count": 140,
   "metadata": {},
   "outputs": [
    {
     "data": {
      "text/plain": [
       "53"
      ]
     },
     "execution_count": 140,
     "metadata": {},
     "output_type": "execute_result"
    }
   ],
   "source": [
    "len(all_data) #всего разных управлений"
   ]
  },
  {
   "cell_type": "code",
   "execution_count": 141,
   "metadata": {},
   "outputs": [
    {
     "data": {
      "text/plain": [
       "30"
      ]
     },
     "execution_count": 141,
     "metadata": {},
     "output_type": "execute_result"
    }
   ],
   "source": [
    "len(all_data[\"на_Loc\"]) #30 глаголов, которые используются с таким управлением"
   ]
  },
  {
   "cell_type": "markdown",
   "metadata": {},
   "source": [
    "### 222 глагола движения"
   ]
  },
  {
   "cell_type": "code",
   "execution_count": 137,
   "metadata": {},
   "outputs": [],
   "source": [
    "with open('./run_verbs_2.json', 'r', encoding='UTF-8') as f:\n",
    "    json_data_2 = json.load(f)"
   ]
  },
  {
   "cell_type": "code",
   "execution_count": 142,
   "metadata": {},
   "outputs": [],
   "source": [
    "all_data_2 = get_all_data(json_data_2)"
   ]
  },
  {
   "cell_type": "code",
   "execution_count": 143,
   "metadata": {},
   "outputs": [
    {
     "data": {
      "text/plain": [
       "58"
      ]
     },
     "execution_count": 143,
     "metadata": {},
     "output_type": "execute_result"
    }
   ],
   "source": [
    "len(all_data_2) "
   ]
  },
  {
   "cell_type": "code",
   "execution_count": 144,
   "metadata": {},
   "outputs": [
    {
     "data": {
      "text/plain": [
       "92"
      ]
     },
     "execution_count": 144,
     "metadata": {},
     "output_type": "execute_result"
    }
   ],
   "source": [
    "len(all_data_2[\"на_Loc\"]) "
   ]
  },
  {
   "cell_type": "markdown",
   "metadata": {},
   "source": [
    "### Глаголы мысли"
   ]
  },
  {
   "cell_type": "code",
   "execution_count": 164,
   "metadata": {},
   "outputs": [],
   "source": [
    "with open('./think_verbs_1.json', 'r', encoding='UTF-8') as f:\n",
    "    json_data_3 = json.load(f)"
   ]
  },
  {
   "cell_type": "code",
   "execution_count": 165,
   "metadata": {},
   "outputs": [],
   "source": [
    "all_data_think = get_all_data(json_data_3)"
   ]
  },
  {
   "cell_type": "code",
   "execution_count": 166,
   "metadata": {},
   "outputs": [
    {
     "data": {
      "text/plain": [
       "42"
      ]
     },
     "execution_count": 166,
     "metadata": {},
     "output_type": "execute_result"
    }
   ],
   "source": [
    "len(all_data_think) "
   ]
  },
  {
   "cell_type": "markdown",
   "metadata": {},
   "source": [
    "# Эмбеддинги, [туториал](https://github.com/akutuzov/webvectors/blob/master/preprocessing/rusvectores_tutorial.ipynb)\n",
    "\n",
    "использую [генсим](https://radimrehurek.com/gensim/models/word2vec.html) "
   ]
  },
  {
   "cell_type": "code",
   "execution_count": 16,
   "metadata": {},
   "outputs": [],
   "source": [
    "from gensim.test.utils import get_tmpfile\n",
    "from gensim.models import FastText"
   ]
  },
  {
   "cell_type": "code",
   "execution_count": 15,
   "metadata": {},
   "outputs": [],
   "source": [
    "def get_model_word2vec(model_file):\n",
    "    with zipfile.ZipFile(model_file, 'r') as archive:\n",
    "        stream = archive.open('model.bin')\n",
    "        model = gensim.models.KeyedVectors.load_word2vec_format(stream, binary=True)\n",
    "    return model    "
   ]
  },
  {
   "cell_type": "code",
   "execution_count": 17,
   "metadata": {},
   "outputs": [],
   "source": [
    "def get_model_fasttext(model_file):\n",
    "    model = gensim.models.KeyedVectors.load(model_file + \"/model.model\")\n",
    "    return model  "
   ]
  },
  {
   "cell_type": "code",
   "execution_count": 18,
   "metadata": {},
   "outputs": [],
   "source": [
    "models = [\n",
    "    {\n",
    "        \"model\": get_model_word2vec(\"180.zip\"),\n",
    "        \"name\": \"ruscorpora_upos_cbow_300_20_2019\",\n",
    "        \"type\": \"word2vec\"\n",
    "    },\n",
    "    {\n",
    "        \"model\": get_model_word2vec(\"220.zip\"),\n",
    "        \"name\": \"ruwikiruscorpora_upos_cbow_300_10_2021\",\n",
    "        \"type\": \"word2vec\"\n",
    "    },\n",
    "    {\n",
    "        \"model\": get_model_fasttext(\"213\"),\n",
    "        \"name\": \"geowac_lemmas_none_fasttextskipgram_300_5_2020\",\n",
    "        \"type\": \"fasttext\"\n",
    "    },\n",
    "    {\n",
    "        \"model\": get_model_fasttext(\"214\"),\n",
    "        \"name\": \"geowac_tokens_none_fasttextskipgram_300_5_2020\",\n",
    "        \"type\": \"fasttext\"\n",
    "    },\n",
    "    {\n",
    "        \"model\": get_model_word2vec(\"185.zip\"),\n",
    "        \"name\": \"tayga_upos_skipgram_300_2_2019\",\n",
    "        \"type\": \"word2vec\"\n",
    "    },\n",
    "    {\n",
    "        \"model\": get_model_fasttext(\"187\"),\n",
    "        \"name\": \"tayga_none_fasttextcbow_300_10_2019\",\n",
    "        \"type\": \"fasttext\"\n",
    "    }\n",
    "]"
   ]
  },
  {
   "cell_type": "code",
   "execution_count": 19,
   "metadata": {},
   "outputs": [],
   "source": [
    "def normalize_word(text):\n",
    "    return text + \"_NOUN\"    "
   ]
  },
  {
   "cell_type": "code",
   "execution_count": 20,
   "metadata": {},
   "outputs": [],
   "source": [
    "def get_embedding(data, model, mode=\"word2vec\"):  \n",
    "    vectors = list()\n",
    "    words = list()\n",
    "    \n",
    "    #total = count_stat(data)\n",
    "    \n",
    "    for i, word in enumerate(data):        \n",
    "        try:\n",
    "            if mode == \"word2vec\":\n",
    "                v = model[normalize_word(word)]\n",
    "            elif mode == \"fasttext\":\n",
    "                v = model[word]\n",
    "            #v = v * (data[word] / total)\n",
    "            vectors.append(v)\n",
    "            words.append(word)\n",
    "        except (KeyError, ValueError, AttributeError):\n",
    "            continue\n",
    "    \n",
    "    return vectors, words"
   ]
  },
  {
   "cell_type": "markdown",
   "metadata": {},
   "source": [
    "### Песочница"
   ]
  },
  {
   "cell_type": "code",
   "execution_count": 32,
   "metadata": {},
   "outputs": [
    {
     "data": {
      "text/plain": [
       "77"
      ]
     },
     "execution_count": 32,
     "metadata": {},
     "output_type": "execute_result"
    }
   ],
   "source": [
    "len(data['на_Loc']['бегать'])"
   ]
  },
  {
   "cell_type": "code",
   "execution_count": 33,
   "metadata": {},
   "outputs": [],
   "source": [
    "X, words = get_embedding(data['на_Loc']['бегать'], models[0][\"model\"])"
   ]
  },
  {
   "cell_type": "code",
   "execution_count": 34,
   "metadata": {},
   "outputs": [
    {
     "name": "stdout",
     "output_type": "stream",
     "text": [
      "74 74\n"
     ]
    }
   ],
   "source": [
    "print(len(X), len(words))"
   ]
  },
  {
   "cell_type": "markdown",
   "metadata": {},
   "source": [
    "# [Визуализация](https://towardsdatascience.com/visualising-high-dimensional-datasets-using-pca-and-t-sne-in-python-8ef87e7915b)"
   ]
  },
  {
   "cell_type": "code",
   "execution_count": 49,
   "metadata": {},
   "outputs": [],
   "source": [
    "from sklearn.manifold import TSNE"
   ]
  },
  {
   "cell_type": "code",
   "execution_count": 50,
   "metadata": {},
   "outputs": [],
   "source": [
    "def tsne_draw(data):\n",
    "    plt.figure(figsize=(10,5))\n",
    "    sns.scatterplot(\n",
    "        data=data,\n",
    "        legend=\"full\",\n",
    "        alpha=1\n",
    "    )"
   ]
  },
  {
   "cell_type": "markdown",
   "metadata": {},
   "source": [
    "### Песочница"
   ]
  },
  {
   "cell_type": "code",
   "execution_count": 51,
   "metadata": {},
   "outputs": [],
   "source": [
    "X_tsne_embedded = TSNE(n_components=2, init='random').fit_transform(X)"
   ]
  },
  {
   "cell_type": "code",
   "execution_count": 52,
   "metadata": {
    "scrolled": true
   },
   "outputs": [
    {
     "data": {
      "image/png": "[encoded data removed]",
      "text/plain": [
       "<Figure size 720x360 with 1 Axes>"
      ]
     },
     "metadata": {
      "needs_background": "light"
     },
     "output_type": "display_data"
    }
   ],
   "source": [
    "tsne_draw(X_tsne_embedded)"
   ]
  },
  {
   "cell_type": "markdown",
   "metadata": {},
   "source": [
    "# Кластеризация"
   ]
  },
  {
   "cell_type": "code",
   "execution_count": 35,
   "metadata": {},
   "outputs": [],
   "source": [
    "def clusters_dict(data, labels):\n",
    "    new_dict = {}\n",
    "\n",
    "    for i, word in enumerate(data):\n",
    "        if labels[i] not in new_dict:\n",
    "            new_dict[labels[i]] = list()\n",
    "        new_dict[labels[i]].append(word)\n",
    "    return new_dict"
   ]
  },
  {
   "cell_type": "code",
   "execution_count": 36,
   "metadata": {},
   "outputs": [],
   "source": [
    "def print_clusters(data):\n",
    "    for key in sorted(data):\n",
    "        res_list = \" \".join(data[key])\n",
    "        print(f\"{key}: {res_list}\")"
   ]
  },
  {
   "cell_type": "code",
   "execution_count": 37,
   "metadata": {},
   "outputs": [],
   "source": [
    "def visualization(X, labels, words, embeddings_name, title, old_pal=None):\n",
    "    \n",
    "    data = pd.DataFrame(X, columns=['tsne1','tsne2'])\n",
    "    data['label'] = labels\n",
    "    data['words'] = words\n",
    "    \n",
    "    if old_pal is None:\n",
    "        pal = sns.color_palette('hls', len(data['label'].unique()))\n",
    "    else:\n",
    "        clusters = data['label'].unique()\n",
    "        pal = dict()\n",
    "        for i in range(len(old_pal)):\n",
    "            if i in clusters:\n",
    "                pal[i] = old_pal[i]\n",
    "    \n",
    "    plt.figure(figsize=(14, 7))\n",
    "    plt.margins(0.1)\n",
    "\n",
    "    p1 = sns.scatterplot(x='tsne1', # Horizontal axis\n",
    "                         y='tsne2', # Vertical axis\n",
    "                         data=data, # Data source\n",
    "                         hue='label',\n",
    "                         legend=False,\n",
    "                         palette=pal)\n",
    "    \n",
    "    plt.xlabel(f\"Координата x ({embeddings_name})\")\n",
    "    plt.ylabel(f\"Координата y ({embeddings_name})\")\n",
    "    plt.title(title)\n",
    "\n",
    "    for line in range(0, data.shape[0]):\n",
    "        p1.text(data.tsne1[line] + 0.3, data.tsne2[line] - 0.3, \n",
    "                data.words[line], horizontalalignment='left', \n",
    "                size='medium', color=pal[data.label[line]], weight='semibold')\n",
    "        \n",
    "    return pal"
   ]
  },
  {
   "cell_type": "markdown",
   "metadata": {},
   "source": [
    "## Кластеризация KMeans"
   ]
  },
  {
   "cell_type": "code",
   "execution_count": 38,
   "metadata": {},
   "outputs": [],
   "source": [
    "from sklearn.cluster import KMeans"
   ]
  },
  {
   "cell_type": "code",
   "execution_count": 39,
   "metadata": {},
   "outputs": [],
   "source": [
    "def check_cluster_dict(cluster_dict, word_1, word_2):\n",
    "    for key in cluster_dict:    \n",
    "        if word_1 in cluster_dict[key] and word_2 in cluster_dict[key]:\n",
    "            return True\n",
    "    return False"
   ]
  },
  {
   "cell_type": "code",
   "execution_count": 40,
   "metadata": {},
   "outputs": [],
   "source": [
    "def find_min_clusters(clusters_list, words):\n",
    "    res_list = list()\n",
    "    ind_list = list()\n",
    "    i = 0\n",
    "    while i < len(words) - 1:\n",
    "        if i not in ind_list:\n",
    "            temp_list = list()\n",
    "            temp_list.append(words[i])\n",
    "            j = i + 1\n",
    "            while j < len(words):\n",
    "                for key in clusters_list[0]:\n",
    "                    flag = False\n",
    "                    if words[i] in clusters_list[0][key]:\n",
    "                        if words[j] in clusters_list[0][key]:\n",
    "                            count = 1\n",
    "                            for cluster_ind in range(1, len(clusters_list)):\n",
    "                                if check_cluster_dict(clusters_list[cluster_ind], words[i], words[j]) is True:\n",
    "                                    count += 1\n",
    "                                else:\n",
    "                                    break\n",
    "                            if count == len(clusters_list):\n",
    "                                temp_list.append(words[j])\n",
    "                                ind_list.append(j)\n",
    "                                flag = True              \n",
    "                    if flag is True:\n",
    "                        break  \n",
    "                j += 1\n",
    "            if len(temp_list) > 1:\n",
    "                res_list.append(temp_list)\n",
    "        i += 1\n",
    "    return res_list"
   ]
  },
  {
   "cell_type": "code",
   "execution_count": 41,
   "metadata": {},
   "outputs": [],
   "source": [
    "def kmeans_experiment(model, data, n_clusters):\n",
    "    X, words = get_embedding(data, model[\"model\"], model[\"type\"])\n",
    "    \n",
    "    X_tsne_embedded = TSNE(n_components=2, init='random').fit_transform(X)\n",
    "    \n",
    "    kmeans = KMeans(n_clusters=n_clusters, random_state=0).fit(X) \n",
    "    labels = kmeans.labels_\n",
    "    \n",
    "    cluster_dict = clusters_dict(words, labels)\n",
    "    \n",
    "    return cluster_dict"
   ]
  },
  {
   "cell_type": "markdown",
   "metadata": {},
   "source": [
    "## Способ нахождения минимальных семантических кластеров "
   ]
  },
  {
   "cell_type": "code",
   "execution_count": 42,
   "metadata": {},
   "outputs": [],
   "source": [
    "def find_min_clusters_on_kmeans(data, n_clusters):    \n",
    "    result_dict = dict()\n",
    "    \n",
    "    for vg in data:\n",
    "        result_dict[vg] = dict()\n",
    "        for verb in data[vg]:\n",
    "            clusters_list = list()\n",
    "            for i in range(len(models)):\n",
    "                if isinstance(n_clusters, int):\n",
    "                    cluster_dict_temp = kmeans_experiment(models[i], data[vg][verb], n_clusters) \n",
    "                elif isinstance(n_clusters, dict):\n",
    "                    cluster_dict_temp = kmeans_experiment(models[i], data[vg][verb], n_clusters[vg][verb][i]) \n",
    "                clusters_list.append(cluster_dict_temp)\n",
    "            result_dict[vg][verb] = find_min_clusters(clusters_list, list(data[vg][verb]))\n",
    "                \n",
    "    return result_dict"
   ]
  },
  {
   "cell_type": "code",
   "execution_count": 43,
   "metadata": {},
   "outputs": [],
   "source": [
    "def print_min_clusters(res_dict):\n",
    "    for vg in res_dict:\n",
    "        print(vg)\n",
    "        for verb in res_dict[vg]:\n",
    "            print(\"\\t\", verb, len(res_dict[vg][verb]))\n",
    "            for cluster in res_dict[vg][verb]:\n",
    "                print(\"\\t\\t\", cluster)"
   ]
  },
  {
   "cell_type": "markdown",
   "metadata": {},
   "source": [
    "### Песочница. Пробую на 6 кластерах"
   ]
  },
  {
   "cell_type": "code",
   "execution_count": 105,
   "metadata": {},
   "outputs": [],
   "source": [
    "experiment_1 = find_min_clusters_on_kmeans(data, 6)"
   ]
  },
  {
   "cell_type": "code",
   "execution_count": 106,
   "metadata": {},
   "outputs": [
    {
     "name": "stdout",
     "output_type": "stream",
     "text": [
      "на_Loc\n",
      "\t бегать 11\n",
      "\t\t ['голова', 'нога', 'щека', 'ножка', 'лапа']\n",
      "\t\t ['свобода', 'пари', 'дело', 'воля', 'пара', 'перемена', 'бал', 'выставка']\n",
      "\t\t ['пляж', 'вилла']\n",
      "\t\t ['протяжение', 'водород']\n",
      "\t\t ['место', 'часть']\n",
      "\t\t ['физкультура', 'пересдача']\n",
      "\t\t ['ферма', 'земля', 'территория']\n",
      "\t\t ['участок', 'поле']\n",
      "\t\t ['экран', 'монитор']\n",
      "\t\t ['балкон', 'этаж', 'крыша']\n",
      "\t\t ['чемпионат', 'соревнование']\n",
      "\t бежать 13\n",
      "\t\t ['буксир', 'лодка', 'катер', 'яхта', 'корабль', 'шлюпка']\n",
      "\t\t ['шпилька', 'каблук', 'каблучок', 'носок']\n",
      "\t\t ['предел', 'расстояние', 'возвышенность', 'уровень']\n",
      "\t\t ['нога', 'лапка', 'ладонь', 'спина']\n",
      "\t\t ['колесо', 'лыжа']\n",
      "\t\t ['скорость', 'высота']\n",
      "\t\t ['грузовик', 'танк']\n",
      "\t\t ['экран', 'кадр']\n",
      "\t\t ['отрезок', 'путь']\n",
      "\t\t ['телек', 'таймер']\n",
      "\t\t ['собеседование', 'лекция']\n",
      "\t\t ['марафон', 'тренировка', 'матч']\n",
      "\t\t ['восток', 'направление']\n",
      "\t нестись 9\n",
      "\t\t ['качели', 'горка']\n",
      "\t\t ['ягуар', 'олень']\n",
      "\t\t ['спина', 'лапа']\n",
      "\t\t ['экран', 'монитор']\n",
      "\t\t ['поворот', 'путь']\n",
      "\t\t ['крыло', 'шип']\n",
      "\t\t ['шоу', 'небо']\n",
      "\t\t ['санки', 'сноуборд']\n",
      "\t\t ['кадр', 'снимок']\n"
     ]
    }
   ],
   "source": [
    "print_min_clusters(experiment_1)"
   ]
  },
  {
   "cell_type": "markdown",
   "metadata": {},
   "source": [
    "### Песочница. Пробую на 10 кластерах"
   ]
  },
  {
   "cell_type": "code",
   "execution_count": 113,
   "metadata": {},
   "outputs": [
    {
     "name": "stdout",
     "output_type": "stream",
     "text": [
      "на_Loc\n",
      "\t бегать 7\n",
      "\t\t ['голова', 'мышка', 'поводок']\n",
      "\t\t ['свобода', 'дело', 'воля']\n",
      "\t\t ['лапка', 'нога', 'ножка', 'лапа']\n",
      "\t\t ['море', 'побережье']\n",
      "\t\t ['карусель', 'сцена']\n",
      "\t\t ['лента', 'карта']\n",
      "\t\t ['чемпионат', 'соревнование']\n",
      "\t бежать 10\n",
      "\t\t ['буксир', 'катер', 'корабль']\n",
      "\t\t ['шпилька', 'каблук']\n",
      "\t\t ['лодка', 'шлюпка']\n",
      "\t\t ['монитор', 'экран']\n",
      "\t\t ['рука', 'ладонь']\n",
      "\t\t ['нога', 'лапка', 'спина']\n",
      "\t\t ['грузовик', 'танк']\n",
      "\t\t ['лицо', 'глаз']\n",
      "\t\t ['кадр', 'фон']\n",
      "\t\t ['путь', 'уровень']\n",
      "\t нестись 6\n",
      "\t\t ['поезд', 'мотоцикл', 'такси', 'грузовик']\n",
      "\t\t ['пара', 'пар']\n",
      "\t\t ['карусель', 'горка']\n",
      "\t\t ['лошадь', 'колесница', 'конь']\n",
      "\t\t ['шоссе', 'руль']\n",
      "\t\t ['буксир', 'судно']\n"
     ]
    }
   ],
   "source": [
    "print_min_clusters(find_min_clusters_on_kmeans(data, 10))"
   ]
  },
  {
   "cell_type": "markdown",
   "metadata": {},
   "source": [
    "## Подбор кол-ва кластеров с помощью AffinityPropagation"
   ]
  },
  {
   "cell_type": "code",
   "execution_count": 44,
   "metadata": {},
   "outputs": [],
   "source": [
    "from sklearn.cluster import AffinityPropagation"
   ]
  },
  {
   "cell_type": "code",
   "execution_count": 45,
   "metadata": {},
   "outputs": [],
   "source": [
    "def affinity_propagation_experiment(model, data):\n",
    "    X, words = get_embedding(data, model[\"model\"], model[\"type\"])\n",
    "    \n",
    "    affinity_propagation = AffinityPropagation().fit(X)\n",
    "    labels = affinity_propagation.labels_  \n",
    "    \n",
    "    return len(affinity_propagation.cluster_centers_)"
   ]
  },
  {
   "cell_type": "code",
   "execution_count": 46,
   "metadata": {},
   "outputs": [],
   "source": [
    "def affinity_propagation_num_clusters_list(data):\n",
    "    result_dict = dict()  \n",
    "    for vg in data:\n",
    "        result_dict[vg] = dict()\n",
    "        for verb in data[vg]: \n",
    "            num_clusters_list = list()  \n",
    "            for i in range(len(models)):\n",
    "                cluster_dict_temp = affinity_propagation_experiment(models[i], data[vg][verb])\n",
    "                num_clusters_list.append(cluster_dict_temp)\n",
    "            result_dict[vg][verb] = num_clusters_list\n",
    "    return result_dict"
   ]
  },
  {
   "cell_type": "markdown",
   "metadata": {},
   "source": [
    "### Песочница"
   ]
  },
  {
   "cell_type": "code",
   "execution_count": 91,
   "metadata": {},
   "outputs": [
    {
     "data": {
      "text/plain": [
       "{'на_Loc': {'бегать': [5, 8, 10, 10, 15, 16],\n",
       "  'бежать': [5, 10, 13, 12, 14, 17],\n",
       "  'нестись': [6, 7, 11, 9, 11, 12]}}"
      ]
     },
     "execution_count": 91,
     "metadata": {},
     "output_type": "execute_result"
    }
   ],
   "source": [
    "affinity_propagation_num_clusters_list(data)"
   ]
  },
  {
   "cell_type": "markdown",
   "metadata": {},
   "source": [
    "Отмечаю, что 6 как количество кластеров нигде не встретилось. Пробую эти значения кластеров передавать kmeans"
   ]
  },
  {
   "cell_type": "code",
   "execution_count": 75,
   "metadata": {},
   "outputs": [],
   "source": [
    "ap_num_clusters_data = affinity_propagation_num_clusters_list(data)"
   ]
  },
  {
   "cell_type": "code",
   "execution_count": 76,
   "metadata": {},
   "outputs": [],
   "source": [
    "experiment_data = find_min_clusters_on_kmeans(data, ap_num_clusters_data)"
   ]
  },
  {
   "cell_type": "code",
   "execution_count": 77,
   "metadata": {},
   "outputs": [
    {
     "name": "stdout",
     "output_type": "stream",
     "text": [
      "на_Loc\n",
      "\t бегать 6\n",
      "\t\t ['лапка', 'нога', 'ножка', 'лапа']\n",
      "\t\t ['лужайка', 'дорожка', 'площадка']\n",
      "\t\t ['море', 'побережье']\n",
      "\t\t ['территория', 'часть']\n",
      "\t\t ['мышка', 'поводок']\n",
      "\t\t ['чемпионат', 'соревнование']\n",
      "\t бежать 7\n",
      "\t\t ['буксир', 'катер', 'корабль']\n",
      "\t\t ['шпилька', 'каблук']\n",
      "\t\t ['лодка', 'яхта', 'шлюпка']\n",
      "\t\t ['монитор', 'телек']\n",
      "\t\t ['рука', 'ладонь']\n",
      "\t\t ['нога', 'лапка', 'ножка']\n",
      "\t\t ['голова', 'спина']\n",
      "\t нестись 6\n",
      "\t\t ['поезд', 'машина', 'мотоцикл', 'грузовик']\n",
      "\t\t ['качели', 'карусель', 'горка']\n",
      "\t\t ['экран', 'монитор']\n",
      "\t\t ['санки', 'сноуборд']\n",
      "\t\t ['буксир', 'судно']\n",
      "\t\t ['кадр', 'снимок']\n"
     ]
    }
   ],
   "source": [
    "print_min_clusters(experiment_data)"
   ]
  },
  {
   "cell_type": "markdown",
   "metadata": {},
   "source": [
    "Кластеров становится меньше (по количеству и размеру), но они более осмысленные!"
   ]
  },
  {
   "cell_type": "markdown",
   "metadata": {},
   "source": [
    "### 60 глаголов движения"
   ]
  },
  {
   "cell_type": "code",
   "execution_count": 47,
   "metadata": {},
   "outputs": [
    {
     "name": "stdout",
     "output_type": "stream",
     "text": [
      "CPU times: user 10min 54s, sys: 5min 46s, total: 16min 41s\n",
      "Wall time: 6min 33s\n"
     ]
    }
   ],
   "source": [
    "%%time\n",
    "ap_num_clusters_run_verb_1 = affinity_propagation_num_clusters_list(all_data)"
   ]
  },
  {
   "cell_type": "code",
   "execution_count": 53,
   "metadata": {},
   "outputs": [
    {
     "name": "stdout",
     "output_type": "stream",
     "text": [
      "CPU times: user 2h 40min 35s, sys: 1h 5min 40s, total: 3h 46min 16s\n",
      "Wall time: 1h 48min 6s\n"
     ]
    }
   ],
   "source": [
    "%%time\n",
    "experiment_run_verb_1 = find_min_clusters_on_kmeans(all_data, ap_num_clusters_run_verb_1)"
   ]
  },
  {
   "cell_type": "code",
   "execution_count": 55,
   "metadata": {},
   "outputs": [
    {
     "data": {
      "text/plain": [
       "30"
      ]
     },
     "execution_count": 55,
     "metadata": {},
     "output_type": "execute_result"
    }
   ],
   "source": [
    "len(experiment_run_verb_1['на_Loc'].keys())"
   ]
  },
  {
   "cell_type": "markdown",
   "metadata": {},
   "source": [
    "### 222 глагола движения"
   ]
  },
  {
   "cell_type": "code",
   "execution_count": 145,
   "metadata": {},
   "outputs": [
    {
     "name": "stdout",
     "output_type": "stream",
     "text": [
      "CPU times: user 30min 2s, sys: 17min 19s, total: 47min 22s\n",
      "Wall time: 17min 7s\n"
     ]
    }
   ],
   "source": [
    "%%time\n",
    "ap_num_clusters_run_verbs_2 = affinity_propagation_num_clusters_list(all_data_2)"
   ]
  },
  {
   "cell_type": "code",
   "execution_count": 146,
   "metadata": {},
   "outputs": [
    {
     "name": "stdout",
     "output_type": "stream",
     "text": [
      "CPU times: user 10h 20min 8s, sys: 4h 20min 33s, total: 14h 40min 42s\n",
      "Wall time: 7h 3min 43s\n"
     ]
    }
   ],
   "source": [
    "%%time\n",
    "experiment_run_verbs_2 = find_min_clusters_on_kmeans(all_data_2, ap_num_clusters_run_verbs_2)"
   ]
  },
  {
   "cell_type": "code",
   "execution_count": 147,
   "metadata": {},
   "outputs": [
    {
     "data": {
      "text/plain": [
       "92"
      ]
     },
     "execution_count": 147,
     "metadata": {},
     "output_type": "execute_result"
    }
   ],
   "source": [
    "len(experiment_run_verbs_2['на_Loc'].keys())"
   ]
  },
  {
   "cell_type": "markdown",
   "metadata": {},
   "source": [
    "### Глаголы мышления"
   ]
  },
  {
   "cell_type": "code",
   "execution_count": 167,
   "metadata": {},
   "outputs": [
    {
     "name": "stdout",
     "output_type": "stream",
     "text": [
      "CPU times: user 11min 15s, sys: 4min 56s, total: 16min 12s\n",
      "Wall time: 8min\n"
     ]
    }
   ],
   "source": [
    "%%time\n",
    "ap_num_clusters_think = affinity_propagation_num_clusters_list(all_data_think)"
   ]
  },
  {
   "cell_type": "code",
   "execution_count": 168,
   "metadata": {},
   "outputs": [
    {
     "name": "stdout",
     "output_type": "stream",
     "text": [
      "CPU times: user 2h 38min, sys: 57min 28s, total: 3h 35min 28s\n",
      "Wall time: 1h 45min 21s\n"
     ]
    }
   ],
   "source": [
    "%%time\n",
    "experiment_think = find_min_clusters_on_kmeans(all_data_think, ap_num_clusters_think)"
   ]
  },
  {
   "cell_type": "code",
   "execution_count": 169,
   "metadata": {},
   "outputs": [
    {
     "data": {
      "text/plain": [
       "42"
      ]
     },
     "execution_count": 169,
     "metadata": {},
     "output_type": "execute_result"
    }
   ],
   "source": [
    "len(experiment_think.keys())"
   ]
  },
  {
   "cell_type": "markdown",
   "metadata": {},
   "source": [
    "# Данные для графа\n",
    "\n",
    "У меня есть 2 набора данных: исходные существительные для \"модель_управления + глагол\" и минимальные кластеры для \"модель_управления + глагол\"\n",
    "\n",
    "1) Создать множество существительных\n",
    "\n",
    "2) Попарно перебираю множество существительных, считаю частоту встречаемости пары. Если 100 раз встретились вместе в исходных данных, то добавляю в словарь и сразу считаю, сколько раз эта пара встретилась в минимальных кластерах\n",
    "\n",
    "3) Смотрю, сколько всего таких пар получилось \n",
    "\n",
    "- если мало, то думаю, как визуализировать\n",
    "- если много, думаю, как отфильтровать"
   ]
  },
  {
   "cell_type": "code",
   "execution_count": 56,
   "metadata": {},
   "outputs": [],
   "source": [
    "def set_of_noun(data):\n",
    "    res_set = set()\n",
    "    for vg in data:\n",
    "        for verb in data[vg]:\n",
    "            res_set.update(data[vg][verb].keys())\n",
    "    return res_set"
   ]
  },
  {
   "cell_type": "code",
   "execution_count": 148,
   "metadata": {},
   "outputs": [],
   "source": [
    "def count_pair(noun_set):\n",
    "    count = 0\n",
    "    noun_list = list(noun_set)\n",
    "    for i in range(len(noun_list) - 1):\n",
    "        for j in range(i + 1, len(noun_list)):\n",
    "            count += 1\n",
    "    return count"
   ]
  },
  {
   "cell_type": "code",
   "execution_count": 195,
   "metadata": {},
   "outputs": [],
   "source": [
    "def get_frequency_of_collocations(input_data, cluster_data, threshold_value):\n",
    "    res_list = list()\n",
    "    \n",
    "    noun_list = list(set_of_noun(input_data))\n",
    "    for i in range(len(noun_list) - 1):\n",
    "        for j in range(i + 1, len(noun_list)):\n",
    "            count_all = 0            \n",
    "            for vg in input_data:\n",
    "                for verb in input_data[vg]:\n",
    "                    if noun_list[i] in input_data[vg][verb]:\n",
    "                        if noun_list[j] in input_data[vg][verb]:\n",
    "                            count_all += 1\n",
    "            if count_all >= threshold_value:\n",
    "                count_cluster = 0\n",
    "                for vg in cluster_data:\n",
    "                    for verb in cluster_data[vg]:\n",
    "                        for cluster_ind in range(len(cluster_data[vg][verb])):\n",
    "                            if noun_list[i] in cluster_data[vg][verb][cluster_ind]:\n",
    "                                if noun_list[j] in cluster_data[vg][verb][cluster_ind]:\n",
    "                                    count_cluster += 1\n",
    "                                else:\n",
    "                                    break                \n",
    "                if count_cluster > 0:\n",
    "                    res_list.append([noun_list[i], noun_list[j], count_all, count_cluster, count_cluster/count_all])                               \n",
    "    return res_list"
   ]
  },
  {
   "cell_type": "code",
   "execution_count": 151,
   "metadata": {},
   "outputs": [],
   "source": [
    "def get_frequency_of_nouns(input_data):\n",
    "    noun_dict = dict()\n",
    "    \n",
    "    noun_list = list(set_of_noun(input_data))\n",
    "    for i in range(len(noun_list)):\n",
    "        count = 0\n",
    "        for vg in input_data:\n",
    "            for verb in input_data[vg]:\n",
    "                if noun_list[i] in input_data[vg][verb]:\n",
    "                    count += 1\n",
    "        noun_dict[noun_list[i]] = count\n",
    "    return noun_dict"
   ]
  },
  {
   "cell_type": "markdown",
   "metadata": {},
   "source": [
    "### 60 глаголов"
   ]
  },
  {
   "cell_type": "code",
   "execution_count": 149,
   "metadata": {},
   "outputs": [
    {
     "name": "stdout",
     "output_type": "stream",
     "text": [
      "CPU times: user 0 ns, sys: 0 ns, total: 0 ns\n",
      "Wall time: 7.66 ms\n"
     ]
    }
   ],
   "source": [
    "%%time\n",
    "noun_set_run_verb_1 = set_of_noun(all_data)"
   ]
  },
  {
   "cell_type": "code",
   "execution_count": 150,
   "metadata": {},
   "outputs": [
    {
     "name": "stdout",
     "output_type": "stream",
     "text": [
      "108464356\n",
      "CPU times: user 7.86 s, sys: 93.8 ms, total: 7.95 s\n",
      "Wall time: 7.93 s\n"
     ]
    }
   ],
   "source": [
    "%%time\n",
    "pair_count_run_verb_1 = count_pair(noun_set_run_verb_1)\n",
    "print(pair_count_run_verb_1)"
   ]
  },
  {
   "cell_type": "code",
   "execution_count": 121,
   "metadata": {},
   "outputs": [
    {
     "name": "stdout",
     "output_type": "stream",
     "text": [
      "CPU times: user 2h 13min 47s, sys: 11.8 s, total: 2h 13min 59s\n",
      "Wall time: 2h 16min 39s\n"
     ]
    }
   ],
   "source": [
    "%%time\n",
    "frequency_run_verb_1 = get_frequency_of_collocations(all_data, experiment_run_verb_1)"
   ]
  },
  {
   "cell_type": "code",
   "execution_count": 124,
   "metadata": {},
   "outputs": [
    {
     "data": {
      "text/plain": [
       "103"
      ]
     },
     "execution_count": 124,
     "metadata": {},
     "output_type": "execute_result"
    }
   ],
   "source": [
    "len(frequency_run_verb_1)"
   ]
  },
  {
   "cell_type": "markdown",
   "metadata": {},
   "source": [
    "получила 103 пары (больше 50 частота встречаемости вообще и больше 0 по кластерам)"
   ]
  },
  {
   "cell_type": "code",
   "execution_count": 127,
   "metadata": {},
   "outputs": [],
   "source": [
    "df = pd.DataFrame(frequency_run_verb_1, columns=['word_1', 'word_2', 'frequency_all', 'frequency_cluster', 'proportion'])"
   ]
  },
  {
   "cell_type": "code",
   "execution_count": 128,
   "metadata": {},
   "outputs": [
    {
     "data": {
      "text/html": [
       "<div>\n",
       "<style scoped>\n",
       "    .dataframe tbody tr th:only-of-type {\n",
       "        vertical-align: middle;\n",
       "    }\n",
       "\n",
       "    .dataframe tbody tr th {\n",
       "        vertical-align: top;\n",
       "    }\n",
       "\n",
       "    .dataframe thead th {\n",
       "        text-align: right;\n",
       "    }\n",
       "</style>\n",
       "<table border=\"1\" class=\"dataframe\">\n",
       "  <thead>\n",
       "    <tr style=\"text-align: right;\">\n",
       "      <th></th>\n",
       "      <th>word_1</th>\n",
       "      <th>word_2</th>\n",
       "      <th>frequency_all</th>\n",
       "      <th>frequency_cluster</th>\n",
       "      <th>proportion</th>\n",
       "    </tr>\n",
       "  </thead>\n",
       "  <tbody>\n",
       "    <tr>\n",
       "      <th>0</th>\n",
       "      <td>девушка</td>\n",
       "      <td>женщина</td>\n",
       "      <td>57</td>\n",
       "      <td>27</td>\n",
       "      <td>0.473684</td>\n",
       "    </tr>\n",
       "    <tr>\n",
       "      <th>1</th>\n",
       "      <td>полоса</td>\n",
       "      <td>дорога</td>\n",
       "      <td>60</td>\n",
       "      <td>1</td>\n",
       "      <td>0.016667</td>\n",
       "    </tr>\n",
       "    <tr>\n",
       "      <th>2</th>\n",
       "      <td>площадь</td>\n",
       "      <td>участок</td>\n",
       "      <td>54</td>\n",
       "      <td>1</td>\n",
       "      <td>0.018519</td>\n",
       "    </tr>\n",
       "    <tr>\n",
       "      <th>3</th>\n",
       "      <td>площадь</td>\n",
       "      <td>улица</td>\n",
       "      <td>72</td>\n",
       "      <td>8</td>\n",
       "      <td>0.111111</td>\n",
       "    </tr>\n",
       "    <tr>\n",
       "      <th>4</th>\n",
       "      <td>площадь</td>\n",
       "      <td>станция</td>\n",
       "      <td>56</td>\n",
       "      <td>1</td>\n",
       "      <td>0.017857</td>\n",
       "    </tr>\n",
       "  </tbody>\n",
       "</table>\n",
       "</div>"
      ],
      "text/plain": [
       "    word_1   word_2  frequency_all  frequency_cluster  proportion\n",
       "0  девушка  женщина             57                 27    0.473684\n",
       "1   полоса   дорога             60                  1    0.016667\n",
       "2  площадь  участок             54                  1    0.018519\n",
       "3  площадь    улица             72                  8    0.111111\n",
       "4  площадь  станция             56                  1    0.017857"
      ]
     },
     "execution_count": 128,
     "metadata": {},
     "output_type": "execute_result"
    }
   ],
   "source": [
    "df.head()"
   ]
  },
  {
   "cell_type": "code",
   "execution_count": 136,
   "metadata": {},
   "outputs": [],
   "source": [
    "df.to_csv('collacation_frequency_1.csv', index=False)"
   ]
  },
  {
   "cell_type": "code",
   "execution_count": 153,
   "metadata": {},
   "outputs": [],
   "source": [
    "frequency_noun_run_verb_1 = get_frequency_of_nouns(all_data)"
   ]
  },
  {
   "cell_type": "code",
   "execution_count": 154,
   "metadata": {},
   "outputs": [],
   "source": [
    "with open('./noun_of_run_verbs_1.json', 'w', encoding='UTF-8') as f:\n",
    "    json.dump(frequency_noun_run_verb_1, f)"
   ]
  },
  {
   "cell_type": "markdown",
   "metadata": {},
   "source": [
    "### 222 глагола"
   ]
  },
  {
   "cell_type": "code",
   "execution_count": 155,
   "metadata": {},
   "outputs": [
    {
     "name": "stdout",
     "output_type": "stream",
     "text": [
      "CPU times: user 15.6 ms, sys: 0 ns, total: 15.6 ms\n",
      "Wall time: 20.4 ms\n"
     ]
    }
   ],
   "source": [
    "%%time\n",
    "noun_set_run_verb_2 = set_of_noun(all_data_2)"
   ]
  },
  {
   "cell_type": "code",
   "execution_count": 156,
   "metadata": {},
   "outputs": [
    {
     "name": "stdout",
     "output_type": "stream",
     "text": [
      "246897531\n",
      "CPU times: user 17.5 s, sys: 15.6 ms, total: 17.5 s\n",
      "Wall time: 17.6 s\n"
     ]
    }
   ],
   "source": [
    "%%time\n",
    "pair_count_run_verb_2 = count_pair(noun_set_run_verb_2)\n",
    "print(pair_count_run_verb_2)"
   ]
  },
  {
   "cell_type": "code",
   "execution_count": 157,
   "metadata": {},
   "outputs": [
    {
     "name": "stdout",
     "output_type": "stream",
     "text": [
      "CPU times: user 1d 1h 11min 38s, sys: 2min 38s, total: 1d 1h 14min 16s\n",
      "Wall time: 1d 1h 31min 59s\n"
     ]
    }
   ],
   "source": [
    "%%time\n",
    "frequency_run_verb_2 = get_frequency_of_collocations(all_data_2, experiment_run_verbs_2)"
   ]
  },
  {
   "cell_type": "code",
   "execution_count": 158,
   "metadata": {},
   "outputs": [
    {
     "data": {
      "text/plain": [
       "4173"
      ]
     },
     "execution_count": 158,
     "metadata": {},
     "output_type": "execute_result"
    }
   ],
   "source": [
    "len(frequency_run_verb_2)"
   ]
  },
  {
   "cell_type": "markdown",
   "metadata": {},
   "source": [
    "Получила 4173 пары. (больше 30 частота встречаемости вообще, больше 0 по кластерам)"
   ]
  },
  {
   "cell_type": "code",
   "execution_count": 159,
   "metadata": {},
   "outputs": [],
   "source": [
    "df_run_verb_2 = pd.DataFrame(frequency_run_verb_2, columns=['word_1', 'word_2', 'frequency_all', 'frequency_cluster', 'proportion'])"
   ]
  },
  {
   "cell_type": "code",
   "execution_count": 160,
   "metadata": {},
   "outputs": [
    {
     "data": {
      "text/html": [
       "<div>\n",
       "<style scoped>\n",
       "    .dataframe tbody tr th:only-of-type {\n",
       "        vertical-align: middle;\n",
       "    }\n",
       "\n",
       "    .dataframe tbody tr th {\n",
       "        vertical-align: top;\n",
       "    }\n",
       "\n",
       "    .dataframe thead th {\n",
       "        text-align: right;\n",
       "    }\n",
       "</style>\n",
       "<table border=\"1\" class=\"dataframe\">\n",
       "  <thead>\n",
       "    <tr style=\"text-align: right;\">\n",
       "      <th></th>\n",
       "      <th>word_1</th>\n",
       "      <th>word_2</th>\n",
       "      <th>frequency_all</th>\n",
       "      <th>frequency_cluster</th>\n",
       "      <th>proportion</th>\n",
       "    </tr>\n",
       "  </thead>\n",
       "  <tbody>\n",
       "    <tr>\n",
       "      <th>0</th>\n",
       "      <td>обход</td>\n",
       "      <td>место</td>\n",
       "      <td>42</td>\n",
       "      <td>1</td>\n",
       "      <td>0.023810</td>\n",
       "    </tr>\n",
       "    <tr>\n",
       "      <th>1</th>\n",
       "      <td>девушка</td>\n",
       "      <td>хозяйка</td>\n",
       "      <td>56</td>\n",
       "      <td>2</td>\n",
       "      <td>0.035714</td>\n",
       "    </tr>\n",
       "    <tr>\n",
       "      <th>2</th>\n",
       "      <td>девушка</td>\n",
       "      <td>сестра</td>\n",
       "      <td>111</td>\n",
       "      <td>2</td>\n",
       "      <td>0.018018</td>\n",
       "    </tr>\n",
       "    <tr>\n",
       "      <th>3</th>\n",
       "      <td>девушка</td>\n",
       "      <td>супруг</td>\n",
       "      <td>34</td>\n",
       "      <td>1</td>\n",
       "      <td>0.029412</td>\n",
       "    </tr>\n",
       "    <tr>\n",
       "      <th>4</th>\n",
       "      <td>девушка</td>\n",
       "      <td>леди</td>\n",
       "      <td>57</td>\n",
       "      <td>2</td>\n",
       "      <td>0.035088</td>\n",
       "    </tr>\n",
       "  </tbody>\n",
       "</table>\n",
       "</div>"
      ],
      "text/plain": [
       "    word_1   word_2  frequency_all  frequency_cluster  proportion\n",
       "0    обход    место             42                  1    0.023810\n",
       "1  девушка  хозяйка             56                  2    0.035714\n",
       "2  девушка   сестра            111                  2    0.018018\n",
       "3  девушка   супруг             34                  1    0.029412\n",
       "4  девушка     леди             57                  2    0.035088"
      ]
     },
     "execution_count": 160,
     "metadata": {},
     "output_type": "execute_result"
    }
   ],
   "source": [
    "df_run_verb_2.head()"
   ]
  },
  {
   "cell_type": "code",
   "execution_count": 161,
   "metadata": {},
   "outputs": [],
   "source": [
    "df_run_verb_2.to_csv('collacation_frequency_run_verb_2.csv', index=False)"
   ]
  },
  {
   "cell_type": "code",
   "execution_count": 162,
   "metadata": {},
   "outputs": [],
   "source": [
    "frequency_noun_run_verb_2 = get_frequency_of_nouns(all_data_2)"
   ]
  },
  {
   "cell_type": "code",
   "execution_count": 163,
   "metadata": {},
   "outputs": [],
   "source": [
    "with open('./noun_of_run_verbs_2.json', 'w', encoding='UTF-8') as f:\n",
    "    json.dump(frequency_noun_run_verb_2, f)"
   ]
  },
  {
   "cell_type": "markdown",
   "metadata": {},
   "source": [
    "### Считаю для управления \"на Loc\""
   ]
  },
  {
   "cell_type": "code",
   "execution_count": 190,
   "metadata": {},
   "outputs": [
    {
     "data": {
      "text/plain": [
       "92"
      ]
     },
     "execution_count": 190,
     "metadata": {},
     "output_type": "execute_result"
    }
   ],
   "source": [
    "len(all_data_2['на_Loc'])"
   ]
  },
  {
   "cell_type": "code",
   "execution_count": 191,
   "metadata": {},
   "outputs": [],
   "source": [
    "all_data_vg_1 = {\n",
    "    'на_Loc': all_data_2['на_Loc']\n",
    "}\n",
    "\n",
    "experiment_run_verbs_vg_1 = {\n",
    "    'на_Loc': experiment_run_verbs_2['на_Loc']\n",
    "}"
   ]
  },
  {
   "cell_type": "code",
   "execution_count": 199,
   "metadata": {},
   "outputs": [
    {
     "data": {
      "text/plain": [
       "92"
      ]
     },
     "execution_count": 199,
     "metadata": {},
     "output_type": "execute_result"
    }
   ],
   "source": [
    "len(all_data_2['на_Loc'])"
   ]
  },
  {
   "cell_type": "code",
   "execution_count": 208,
   "metadata": {},
   "outputs": [
    {
     "name": "stdout",
     "output_type": "stream",
     "text": [
      "CPU times: user 30.2 s, sys: 0 ns, total: 30.2 s\n",
      "Wall time: 30.4 s\n"
     ]
    }
   ],
   "source": [
    "%%time\n",
    "frequency_run_verb_vg_1 = get_frequency_of_collocations(all_data_vg_1, experiment_run_verbs_vg_1, 10)"
   ]
  },
  {
   "cell_type": "code",
   "execution_count": 209,
   "metadata": {},
   "outputs": [
    {
     "data": {
      "text/plain": [
       "231"
      ]
     },
     "execution_count": 209,
     "metadata": {},
     "output_type": "execute_result"
    }
   ],
   "source": [
    "len(frequency_run_verb_vg_1)"
   ]
  },
  {
   "cell_type": "code",
   "execution_count": 210,
   "metadata": {},
   "outputs": [],
   "source": [
    "df_run_verb_vg_1 = pd.DataFrame(frequency_run_verb_vg_1, columns=['word_1', 'word_2', 'frequency_all', 'frequency_cluster', 'proportion'])"
   ]
  },
  {
   "cell_type": "code",
   "execution_count": 211,
   "metadata": {},
   "outputs": [
    {
     "data": {
      "text/html": [
       "<div>\n",
       "<style scoped>\n",
       "    .dataframe tbody tr th:only-of-type {\n",
       "        vertical-align: middle;\n",
       "    }\n",
       "\n",
       "    .dataframe tbody tr th {\n",
       "        vertical-align: top;\n",
       "    }\n",
       "\n",
       "    .dataframe thead th {\n",
       "        text-align: right;\n",
       "    }\n",
       "</style>\n",
       "<table border=\"1\" class=\"dataframe\">\n",
       "  <thead>\n",
       "    <tr style=\"text-align: right;\">\n",
       "      <th></th>\n",
       "      <th>word_1</th>\n",
       "      <th>word_2</th>\n",
       "      <th>frequency_all</th>\n",
       "      <th>frequency_cluster</th>\n",
       "      <th>proportion</th>\n",
       "    </tr>\n",
       "  </thead>\n",
       "  <tbody>\n",
       "    <tr>\n",
       "      <th>0</th>\n",
       "      <td>северо-запад</td>\n",
       "      <td>восток</td>\n",
       "      <td>11</td>\n",
       "      <td>8</td>\n",
       "      <td>0.727273</td>\n",
       "    </tr>\n",
       "    <tr>\n",
       "      <th>1</th>\n",
       "      <td>скорость</td>\n",
       "      <td>поворот</td>\n",
       "      <td>14</td>\n",
       "      <td>1</td>\n",
       "      <td>0.071429</td>\n",
       "    </tr>\n",
       "    <tr>\n",
       "      <th>2</th>\n",
       "      <td>скорость</td>\n",
       "      <td>высота</td>\n",
       "      <td>26</td>\n",
       "      <td>1</td>\n",
       "      <td>0.038462</td>\n",
       "    </tr>\n",
       "    <tr>\n",
       "      <th>3</th>\n",
       "      <td>скорость</td>\n",
       "      <td>расстояние</td>\n",
       "      <td>28</td>\n",
       "      <td>1</td>\n",
       "      <td>0.035714</td>\n",
       "    </tr>\n",
       "    <tr>\n",
       "      <th>4</th>\n",
       "      <td>спина</td>\n",
       "      <td>нога</td>\n",
       "      <td>15</td>\n",
       "      <td>3</td>\n",
       "      <td>0.200000</td>\n",
       "    </tr>\n",
       "  </tbody>\n",
       "</table>\n",
       "</div>"
      ],
      "text/plain": [
       "         word_1      word_2  frequency_all  frequency_cluster  proportion\n",
       "0  северо-запад      восток             11                  8    0.727273\n",
       "1      скорость     поворот             14                  1    0.071429\n",
       "2      скорость      высота             26                  1    0.038462\n",
       "3      скорость  расстояние             28                  1    0.035714\n",
       "4         спина        нога             15                  3    0.200000"
      ]
     },
     "execution_count": 211,
     "metadata": {},
     "output_type": "execute_result"
    }
   ],
   "source": [
    "df_run_verb_vg_1.head()"
   ]
  },
  {
   "cell_type": "code",
   "execution_count": 212,
   "metadata": {},
   "outputs": [],
   "source": [
    "df_run_verb_vg_1.to_csv('collacation_frequency_run_verb_vg_1.csv', index=False)"
   ]
  },
  {
   "cell_type": "code",
   "execution_count": 213,
   "metadata": {},
   "outputs": [],
   "source": [
    "frequency_noun_run_verb_vg_1 = get_frequency_of_nouns(all_data_vg_1)"
   ]
  },
  {
   "cell_type": "code",
   "execution_count": 214,
   "metadata": {},
   "outputs": [],
   "source": [
    "with open('./noun_of_run_verbs_vg_1.json', 'w', encoding='UTF-8') as f:\n",
    "    json.dump(frequency_noun_run_verb_vg_1, f)"
   ]
  },
  {
   "cell_type": "markdown",
   "metadata": {},
   "source": [
    "### Глаголы мышления"
   ]
  },
  {
   "cell_type": "code",
   "execution_count": 170,
   "metadata": {},
   "outputs": [
    {
     "name": "stdout",
     "output_type": "stream",
     "text": [
      "CPU times: user 0 ns, sys: 0 ns, total: 0 ns\n",
      "Wall time: 6.13 ms\n"
     ]
    }
   ],
   "source": [
    "%%time\n",
    "noun_set_think = set_of_noun(all_data_think)"
   ]
  },
  {
   "cell_type": "code",
   "execution_count": 171,
   "metadata": {},
   "outputs": [
    {
     "name": "stdout",
     "output_type": "stream",
     "text": [
      "85001241\n",
      "CPU times: user 6.38 s, sys: 93.8 ms, total: 6.47 s\n",
      "Wall time: 6.34 s\n"
     ]
    }
   ],
   "source": [
    "%%time\n",
    "pair_count_think = count_pair(noun_set_think)\n",
    "print(pair_count_think)"
   ]
  },
  {
   "cell_type": "code",
   "execution_count": 172,
   "metadata": {},
   "outputs": [
    {
     "name": "stdout",
     "output_type": "stream",
     "text": [
      "CPU times: user 57min 19s, sys: 2.67 s, total: 57min 22s\n",
      "Wall time: 57min 25s\n"
     ]
    }
   ],
   "source": [
    "%%time\n",
    "frequency_think = get_frequency_of_collocations(all_data_think, experiment_think)"
   ]
  },
  {
   "cell_type": "code",
   "execution_count": 173,
   "metadata": {},
   "outputs": [
    {
     "data": {
      "text/plain": [
       "85"
      ]
     },
     "execution_count": 173,
     "metadata": {},
     "output_type": "execute_result"
    }
   ],
   "source": [
    "len(frequency_think)"
   ]
  },
  {
   "cell_type": "code",
   "execution_count": 174,
   "metadata": {},
   "outputs": [],
   "source": [
    "df_think = pd.DataFrame(frequency_think, columns=['word_1', 'word_2', 'frequency_all', 'frequency_cluster', 'proportion'])"
   ]
  },
  {
   "cell_type": "code",
   "execution_count": 175,
   "metadata": {},
   "outputs": [
    {
     "data": {
      "text/html": [
       "<div>\n",
       "<style scoped>\n",
       "    .dataframe tbody tr th:only-of-type {\n",
       "        vertical-align: middle;\n",
       "    }\n",
       "\n",
       "    .dataframe tbody tr th {\n",
       "        vertical-align: top;\n",
       "    }\n",
       "\n",
       "    .dataframe thead th {\n",
       "        text-align: right;\n",
       "    }\n",
       "</style>\n",
       "<table border=\"1\" class=\"dataframe\">\n",
       "  <thead>\n",
       "    <tr style=\"text-align: right;\">\n",
       "      <th></th>\n",
       "      <th>word_1</th>\n",
       "      <th>word_2</th>\n",
       "      <th>frequency_all</th>\n",
       "      <th>frequency_cluster</th>\n",
       "      <th>proportion</th>\n",
       "    </tr>\n",
       "  </thead>\n",
       "  <tbody>\n",
       "    <tr>\n",
       "      <th>0</th>\n",
       "      <td>девушка</td>\n",
       "      <td>женщина</td>\n",
       "      <td>45</td>\n",
       "      <td>12</td>\n",
       "      <td>0.266667</td>\n",
       "    </tr>\n",
       "    <tr>\n",
       "      <th>1</th>\n",
       "      <td>система</td>\n",
       "      <td>модель</td>\n",
       "      <td>36</td>\n",
       "      <td>1</td>\n",
       "      <td>0.027778</td>\n",
       "    </tr>\n",
       "    <tr>\n",
       "      <th>2</th>\n",
       "      <td>система</td>\n",
       "      <td>программа</td>\n",
       "      <td>33</td>\n",
       "      <td>1</td>\n",
       "      <td>0.030303</td>\n",
       "    </tr>\n",
       "    <tr>\n",
       "      <th>3</th>\n",
       "      <td>создание</td>\n",
       "      <td>проект</td>\n",
       "      <td>31</td>\n",
       "      <td>2</td>\n",
       "      <td>0.064516</td>\n",
       "    </tr>\n",
       "    <tr>\n",
       "      <th>4</th>\n",
       "      <td>книга</td>\n",
       "      <td>фильм</td>\n",
       "      <td>32</td>\n",
       "      <td>1</td>\n",
       "      <td>0.031250</td>\n",
       "    </tr>\n",
       "  </tbody>\n",
       "</table>\n",
       "</div>"
      ],
      "text/plain": [
       "     word_1     word_2  frequency_all  frequency_cluster  proportion\n",
       "0   девушка    женщина             45                 12    0.266667\n",
       "1   система     модель             36                  1    0.027778\n",
       "2   система  программа             33                  1    0.030303\n",
       "3  создание     проект             31                  2    0.064516\n",
       "4     книга      фильм             32                  1    0.031250"
      ]
     },
     "execution_count": 175,
     "metadata": {},
     "output_type": "execute_result"
    }
   ],
   "source": [
    "df_think.head()"
   ]
  },
  {
   "cell_type": "code",
   "execution_count": 176,
   "metadata": {},
   "outputs": [],
   "source": [
    "df_think.to_csv('collacation_frequency_think.csv', index=False)"
   ]
  },
  {
   "cell_type": "code",
   "execution_count": 177,
   "metadata": {},
   "outputs": [],
   "source": [
    "frequency_noun_think = get_frequency_of_nouns(all_data_think)"
   ]
  },
  {
   "cell_type": "code",
   "execution_count": 178,
   "metadata": {},
   "outputs": [],
   "source": [
    "with open('./noun_of_think_verbs.json', 'w', encoding='UTF-8') as f:\n",
    "    json.dump(frequency_noun_think, f)"
   ]
  },
  {
   "cell_type": "markdown",
   "metadata": {},
   "source": [
    "### Проверяем, подходит ли этот метод по метрикам"
   ]
  },
  {
   "cell_type": "code",
   "execution_count": 111,
   "metadata": {},
   "outputs": [],
   "source": [
    "from sklearn.metrics import silhouette_score, davies_bouldin_score, v_measure_score"
   ]
  },
  {
   "cell_type": "code",
   "execution_count": 161,
   "metadata": {},
   "outputs": [
    {
     "name": "stdout",
     "output_type": "stream",
     "text": [
      "77\n",
      "82\n",
      "58\n"
     ]
    }
   ],
   "source": [
    "for i in range(len(all_data)):\n",
    "    print(len(all_data[i]))"
   ]
  },
  {
   "cell_type": "code",
   "execution_count": 132,
   "metadata": {},
   "outputs": [],
   "source": [
    "def calculate_metrics(data, models, start, end):\n",
    "    res_dict = dict()\n",
    "    \n",
    "    for vg in data:\n",
    "        res_dict[vg] = dict()\n",
    "        for verb in data[vg]: \n",
    "            models_metrics = list()\n",
    "            for ind in range(len(models)):                \n",
    "                km_scores = []\n",
    "                km_silhouette = []\n",
    "                db_score = []\n",
    "\n",
    "                X_scaled, words = get_embedding(data[vg][verb], models[ind][\"model\"], models[ind][\"type\"])\n",
    "\n",
    "                for i in range(start, end):\n",
    "                    km = KMeans(n_clusters=i, random_state=0).fit(X_scaled)\n",
    "                    preds = km.predict(X_scaled)\n",
    "                    \n",
    "                    km_scores.append(-km.score(X_scaled))                    \n",
    "                    km_silhouette.append(silhouette_score(X_scaled, preds))\n",
    "                    db_score.append(davies_bouldin_score(X_scaled, preds))\n",
    "                models_metrics.append({\n",
    "                    \"km_scores\": km_scores, \n",
    "                    \"km_silhouette\": km_silhouette, \n",
    "                    \"db_score\": db_score\n",
    "                })\n",
    "            res_dict[vg][verb] = models_metrics\n",
    "    return res_dict"
   ]
  },
  {
   "cell_type": "code",
   "execution_count": 215,
   "metadata": {},
   "outputs": [],
   "source": [
    "def show_metrics(metrics, ap_num_clusters):\n",
    "    fig = plt.figure(figsize=(16,4)) \n",
    "    \n",
    "    ax_1 = fig.add_subplot(1, 3, 1)\n",
    "    ax_2 = fig.add_subplot(1, 3, 2)\n",
    "    ax_3 = fig.add_subplot(1, 3, 3)\n",
    "\n",
    "    X = [i for i in range(start, end)]\n",
    "\n",
    "    ax_1.set(title=\"The elbow method\")\n",
    "    ax_1.scatter(x=X,y=metrics['km_scores'],s=80,edgecolor='k')\n",
    "    ax_1.grid(True)\n",
    "    ax_1.set(xlabel=\"Number of clusters\")\n",
    "    ax_1.set(ylabel=\"K-means score\")\n",
    "    ax_1.set(xticks=X)\n",
    "\n",
    "    ax_2.set(title=\"The silhouette coefficient method\")\n",
    "    ax_2.scatter(x=X,y=metrics['km_silhouette'],s=80,edgecolor='k')\n",
    "    ax_2.grid(True)\n",
    "    ax_2.set(xlabel=\"Number of clusters\")\n",
    "    ax_2.set(ylabel=\"Silhouette score\")\n",
    "    ax_2.set(xticks=X)\n",
    "\n",
    "    ax_3.set(title=\"Davies-Bouldin score\")\n",
    "    ax_3.scatter(x=X,y=metrics['db_score'],s=80,edgecolor='k')\n",
    "    ax_3.grid(True)\n",
    "    ax_3.set(xlabel=\"Number of clusters\")\n",
    "    ax_3.set(ylabel=\"Davies-Bouldin score\")\n",
    "    ax_3.set(xticks=X)\n",
    "    \n",
    "    fig.suptitle(f\"Number of clusters = {ap_num_clusters} (AffinityPropagation)\\n\\n\", fontsize=14)"
   ]
  },
  {
   "cell_type": "code",
   "execution_count": 202,
   "metadata": {},
   "outputs": [],
   "source": [
    "start, end = 2, 20"
   ]
  },
  {
   "cell_type": "code",
   "execution_count": 203,
   "metadata": {},
   "outputs": [
    {
     "data": {
      "text/plain": [
       "{'на_Loc': {'бегать': [5, 8, 10, 10, 15, 16],\n",
       "  'бежать': [5, 10, 13, 12, 14, 17],\n",
       "  'нестись': [6, 7, 11, 9, 11, 12]}}"
      ]
     },
     "execution_count": 203,
     "metadata": {},
     "output_type": "execute_result"
    }
   ],
   "source": [
    "ap_num_clusters"
   ]
  },
  {
   "cell_type": "code",
   "execution_count": 205,
   "metadata": {},
   "outputs": [],
   "source": [
    "metrics = calculate_metrics(data, models, start, end)"
   ]
  },
  {
   "cell_type": "code",
   "execution_count": 216,
   "metadata": {
    "scrolled": false
   },
   "outputs": [
    {
     "data": {
      "image/png": "[encoded data removed]",
      "text/plain": [
       "<Figure size 1152x288 with 3 Axes>"
      ]
     },
     "metadata": {
      "needs_background": "light"
     },
     "output_type": "display_data"
    },
    {
     "data": {
      "image/png": "[encoded data removed]",
      "text/plain": [
       "<Figure size 1152x288 with 3 Axes>"
      ]
     },
     "metadata": {
      "needs_background": "light"
     },
     "output_type": "display_data"
    },
    {
     "data": {
      "image/png": "[encoded data removed]",
      "text/plain": [
       "<Figure size 1152x288 with 3 Axes>"
      ]
     },
     "metadata": {
      "needs_background": "light"
     },
     "output_type": "display_data"
    },
    {
     "data": {
      "image/png": "[encoded data removed]",
      "text/plain": [
       "<Figure size 1152x288 with 3 Axes>"
      ]
     },
     "metadata": {
      "needs_background": "light"
     },
     "output_type": "display_data"
    },
    {
     "data": {
      "image/png": "[encoded data removed]",
      "text/plain": [
       "<Figure size 1152x288 with 3 Axes>"
      ]
     },
     "metadata": {
      "needs_background": "light"
     },
     "output_type": "display_data"
    },
    {
     "data": {
      "image/png": "[encoded data removed]",
      "text/plain": [
       "<Figure size 1152x288 with 3 Axes>"
      ]
     },
     "metadata": {
      "needs_background": "light"
     },
     "output_type": "display_data"
    }
   ],
   "source": [
    "for i in range(6):\n",
    "    show_metrics(metrics['на_Loc']['бегать'][i], ap_num_clusters['на_Loc']['бегать'][i])"
   ]
  },
  {
   "cell_type": "markdown",
   "metadata": {},
   "source": [
    "В некоторых случаях можно сказать, что количество кластеров, предложенное AffinityPropagation, совпадает с метрикой Дэвиса-Болдина или коэффициентом силуэтта"
   ]
  }
 ],
 "metadata": {
  "kernelspec": {
   "display_name": "Python 3",
   "language": "python",
   "name": "python3"
  },
  "language_info": {
   "codemirror_mode": {
    "name": "ipython",
    "version": 3
   },
   "file_extension": ".py",
   "mimetype": "text/x-python",
   "name": "python",
   "nbconvert_exporter": "python",
   "pygments_lexer": "ipython3",
   "version": "3.6.9"
  }
 },
 "nbformat": 4,
 "nbformat_minor": 2
}
